{
 "cells": [
  {
   "cell_type": "code",
   "execution_count": null,
   "metadata": {},
   "outputs": [],
   "source": [
    "from matplotlib import pyplot as plt\n",
    "import numpy as np\n",
    "import torch\n",
    "from torch import nn"
   ]
  },
  {
   "cell_type": "code",
   "execution_count": null,
   "metadata": {},
   "outputs": [],
   "source": [
    "class Generator(nn.Module):\n",
    "    def __init__(self):\n",
    "        super(Generator, self).__init__()\n",
    "        self.block1 = nn.Sequential(nn.Conv2d(3, 64, kernel_size=9, padding=4),nn.PReLU())\n",
    "        self.block2 = ResidualBlock(64)\n",
    "        self.block3 = ResidualBlock(64)\n",
    "        self.block4 = ResidualBlock(64)\n",
    "        self.block5 = ResidualBlock(64)\n",
    "        self.block6 = ResidualBlock(64)\n",
    "        self.block7 = nn.Sequential(nn.Conv2d(64, 64, kernel_size=3, padding=1),nn.BatchNorm2d(64))\n",
    "        self.block8 = UpsampleBLock(64, 5)\n",
    "        self.block9 = nn.Conv2d(64, 3, kernel_size=9, padding=4)\n",
    "\n",
    "    def forward(self, x):\n",
    "        block1 = self.block1(x)\n",
    "        block2 = self.block2(block1)\n",
    "        block3 = self.block3(block2)\n",
    "        block4 = self.block4(block3)\n",
    "        block5 = self.block5(block4)\n",
    "        block6 = self.block6(block5)\n",
    "        block7 = self.block7(block6)\n",
    "        block8 = self.block8(block1 + block7)\n",
    "        block9 = self.block9(block8)\n",
    "\n",
    "        return (torch.tanh(block9) + 1) / 2"
   ]
  },
  {
   "cell_type": "code",
   "execution_count": null,
   "metadata": {},
   "outputs": [],
   "source": [
    "class UpsampleBLock(nn.Module):\n",
    "    def __init__(self, in_channels, up_scale):\n",
    "        super(UpsampleBLock, self).__init__()\n",
    "        self.conv = nn.Conv2d(in_channels, in_channels * up_scale ** 2, kernel_size=3, padding=1)\n",
    "        self.pixel_shuffle = nn.PixelShuffle(up_scale)\n",
    "        \n",
    "        # Rearranges elements in a tensor of shape (∗,C×r^2,H,W) \n",
    "        # to a tensor of shape (*, C, H x r, W x r).\n",
    "        # This is useful for implementing efficient sub-pixel convolution with a stride of 1/r\n",
    "        \n",
    "        self.prelu = nn.PReLU()\n",
    "\n",
    "    def forward(self, x):\n",
    "        x = self.conv(x)\n",
    "        x = self.pixel_shuffle(x)\n",
    "        x = self.prelu(x)\n",
    "        return x"
   ]
  },
  {
   "cell_type": "code",
   "execution_count": null,
   "metadata": {},
   "outputs": [],
   "source": [
    "class ResidualBlock(nn.Module):\n",
    "    def __init__(self, channels):\n",
    "        super(ResidualBlock, self).__init__()\n",
    "        self.conv1 = nn.Conv2d(channels, channels, kernel_size=3, padding=1)\n",
    "        self.bn1 = nn.BatchNorm2d(channels)\n",
    "        self.prelu = nn.PReLU()\n",
    "        self.conv2 = nn.Conv2d(channels, channels, kernel_size=3, padding=1)\n",
    "        self.bn2 = nn.BatchNorm2d(channels)\n",
    "\n",
    "    def forward(self, x):\n",
    "        residual = self.conv1(x)\n",
    "        residual = self.bn1(residual)\n",
    "        residual = self.prelu(residual)\n",
    "        residual = self.conv2(residual)\n",
    "        residual = self.bn2(residual)\n",
    "\n",
    "        return x + residual"
   ]
  },
  {
   "cell_type": "code",
   "execution_count": null,
   "metadata": {},
   "outputs": [],
   "source": [
    "netG = Generator()\n",
    "netG = netG.cuda()\n",
    "netG.load_state_dict(torch.load('epochs/netG_epoch_200.pth'))\n",
    "netG.eval()"
   ]
  },
  {
   "cell_type": "code",
   "execution_count": null,
   "metadata": {},
   "outputs": [],
   "source": [
    "plt.rcParams['figure.figsize'] = (6,4)\n",
    "plt.rcParams['figure.dpi'] = 300"
   ]
  },
  {
   "cell_type": "code",
   "execution_count": null,
   "metadata": {},
   "outputs": [],
   "source": [
    "field_lr = np.load('data/LoRes/Arrays/FIELD/field_2010.npy')\n",
    "field_hr = np.load('data/HiRes/Arrays/FIELD/field_2010.npy')\n",
    "field_interp = np.load('data/Interp/FIELD/field_cubic_2010.npy')"
   ]
  },
  {
   "cell_type": "code",
   "execution_count": null,
   "metadata": {},
   "outputs": [],
   "source": [
    "wind_lr = np.sqrt(np.square(field_lr[:,0,:,:]) + np.square(field_lr[:,1,:,:]))\n",
    "wind_hr = np.sqrt(np.square(field_hr[:,0,:,:]) + np.square(field_hr[:,1,:,:]))\n",
    "wind_interp = np.sqrt(np.square(field_interp[:,0,:,:]) + np.square(field_interp[:,1,:,:]))"
   ]
  },
  {
   "cell_type": "code",
   "execution_count": null,
   "metadata": {},
   "outputs": [],
   "source": [
    "slp_lr = field_lr[:,2,:,:]\n",
    "slp_hr = field_hr[:,2,:,:]\n",
    "slp_interp = field_interp[:,2,:,:]"
   ]
  },
  {
   "cell_type": "code",
   "execution_count": null,
   "metadata": {},
   "outputs": [],
   "source": [
    "field_lr_tensor = torch.from_numpy(field_lr).cuda()\n",
    "\n",
    "field_norm = torch.zeros_like(field_lr_tensor)\n",
    "\n",
    "field_norm[:,0,:,:] = (field_lr_tensor[:,0,:,:]+40)/80\n",
    "field_norm[:,1,:,:] = (field_lr_tensor[:,1,:,:]+40)/80\n",
    "field_norm[:,2,:,:] = (field_lr_tensor[:,2,:,:]-940)/120"
   ]
  },
  {
   "cell_type": "code",
   "execution_count": null,
   "metadata": {},
   "outputs": [],
   "source": [
    "field_nn_norm = netG(field_norm[1448,:,:,:].unsqueeze(0)).squeeze()"
   ]
  },
  {
   "cell_type": "code",
   "execution_count": null,
   "metadata": {},
   "outputs": [],
   "source": [
    "field_nn_norm = field_nn_norm.cpu().detach().numpy()"
   ]
  },
  {
   "cell_type": "code",
   "execution_count": null,
   "metadata": {},
   "outputs": [],
   "source": [
    "field_nn = np.zeros_like(field_nn_norm)"
   ]
  },
  {
   "cell_type": "code",
   "execution_count": null,
   "metadata": {},
   "outputs": [],
   "source": [
    "field_nn[0,:,:] = 80*field_nn_norm[0,:,:] - 40\n",
    "field_nn[1,:,:] = 80*field_nn_norm[1,:,:] - 40\n",
    "field_nn[2,:,:] = 120*field_nn_norm[2,:,:] + 940"
   ]
  },
  {
   "cell_type": "code",
   "execution_count": null,
   "metadata": {},
   "outputs": [],
   "source": [
    "wind_nn = np.sqrt(np.square(field_nn[0,:,:]) + np.square(field_nn[1,:,:]))\n",
    "slp_nn = field_nn[2,:,:]"
   ]
  },
  {
   "cell_type": "code",
   "execution_count": null,
   "metadata": {},
   "outputs": [],
   "source": [
    "print(np.min(wind_lr[0,:,:]))\n",
    "print(np.max(wind_lr[1448,:,:]))"
   ]
  },
  {
   "cell_type": "code",
   "execution_count": null,
   "metadata": {},
   "outputs": [],
   "source": [
    "print(np.min(wind_hr[1448,:,:]))\n",
    "print(np.max(wind_hr[1448,:,:]))"
   ]
  },
  {
   "cell_type": "code",
   "execution_count": null,
   "metadata": {},
   "outputs": [],
   "source": [
    "print(np.min(wind_interp[1448,:,:]))\n",
    "print(np.max(wind_interp[1448,:,:]))"
   ]
  },
  {
   "cell_type": "code",
   "execution_count": null,
   "metadata": {},
   "outputs": [],
   "source": [
    "print(np.min(wind_nn))\n",
    "print(np.max(wind_nn))"
   ]
  },
  {
   "cell_type": "code",
   "execution_count": null,
   "metadata": {},
   "outputs": [],
   "source": [
    "_ = plt.imshow(wind_lr[1448,:,:], cmap = 'gray', vmin = 0, vmax = 25, origin ='lower')\n",
    "_ = plt.colorbar()\n",
    "_ = plt.axis('off')\n",
    "_ = plt.savefig(\"Low.png\")"
   ]
  },
  {
   "cell_type": "code",
   "execution_count": null,
   "metadata": {},
   "outputs": [],
   "source": [
    "_ = plt.imshow(wind_interp[1448,:,:], cmap = 'gray', vmin = 0, vmax = 25, origin ='lower')\n",
    "_ = plt.colorbar()\n",
    "_ = plt.axis('off')\n",
    "_ = plt.savefig(\"Interp.png\")"
   ]
  },
  {
   "cell_type": "code",
   "execution_count": null,
   "metadata": {},
   "outputs": [],
   "source": [
    "_ = plt.imshow(wind_nn, cmap = 'gray', vmin = 0, vmax = 25, origin ='lower')\n",
    "_ = plt.colorbar()\n",
    "_ = plt.axis('off')\n",
    "_ = plt.savefig(\"nn-200.png\")"
   ]
  },
  {
   "cell_type": "code",
   "execution_count": null,
   "metadata": {},
   "outputs": [],
   "source": [
    "_ = plt.imshow(wind_hr[1448,:,:], cmap = 'gray', vmin = 0, vmax = 25, origin ='lower')\n",
    "_ = plt.colorbar()\n",
    "_ = plt.axis('off')\n",
    "_ = plt.savefig(\"High.png\")"
   ]
  },
  {
   "cell_type": "code",
   "execution_count": null,
   "metadata": {},
   "outputs": [],
   "source": [
    "print(np.min(slp_lr[1448,:,:]))\n",
    "print(np.max(slp_lr[1448,:,:]))"
   ]
  },
  {
   "cell_type": "code",
   "execution_count": null,
   "metadata": {},
   "outputs": [],
   "source": [
    "print(np.min(slp_hr[1448,:,:]))\n",
    "print(np.max(slp_hr[1448,:,:]))"
   ]
  },
  {
   "cell_type": "code",
   "execution_count": null,
   "metadata": {},
   "outputs": [],
   "source": [
    "print(np.min(slp_interp[1448,:,:]))\n",
    "print(np.max(slp_interp[1448,:,:]))"
   ]
  },
  {
   "cell_type": "code",
   "execution_count": null,
   "metadata": {},
   "outputs": [],
   "source": [
    "print(np.min(slp_nn))\n",
    "print(np.max(slp_nn))"
   ]
  },
  {
   "cell_type": "code",
   "execution_count": null,
   "metadata": {},
   "outputs": [],
   "source": [
    "_ = plt.imshow(slp_lr[1448,:,:], cmap = 'gray', vmin = 975, vmax = 1035, origin ='lower')\n",
    "_ = plt.colorbar()\n",
    "_ = plt.axis('off')\n",
    "_ = plt.savefig(\"SLP_Low.png\")"
   ]
  },
  {
   "cell_type": "code",
   "execution_count": null,
   "metadata": {},
   "outputs": [],
   "source": [
    "_ = plt.imshow(slp_interp[1448,:,:], cmap = 'gray', vmin = 975, vmax = 1035, origin ='lower')\n",
    "_ = plt.colorbar()\n",
    "_ = plt.axis('off')\n",
    "_ = plt.savefig(\"SLP_Interp.png\")"
   ]
  },
  {
   "cell_type": "code",
   "execution_count": null,
   "metadata": {},
   "outputs": [],
   "source": [
    "_ = plt.imshow(slp_nn, cmap = 'gray', vmin = 975, vmax = 1035, origin ='lower')\n",
    "_ = plt.colorbar()\n",
    "_ = plt.axis('off')\n",
    "_ = plt.savefig(\"slp-nn-200.png\")"
   ]
  },
  {
   "cell_type": "code",
   "execution_count": null,
   "metadata": {},
   "outputs": [],
   "source": [
    "_ = plt.imshow(slp_hr[1448,:,:], cmap = 'gray', vmin = 975, vmax = 1035, origin ='lower')\n",
    "_ = plt.colorbar()\n",
    "_ = plt.axis('off')\n",
    "_ = plt.savefig(\"slp-high.png\")"
   ]
  },
  {
   "cell_type": "code",
   "execution_count": null,
   "metadata": {},
   "outputs": [],
   "source": []
  }
 ],
 "metadata": {
  "kernelspec": {
   "display_name": "Python 3",
   "language": "python",
   "name": "python3"
  },
  "language_info": {
   "codemirror_mode": {
    "name": "ipython",
    "version": 3
   },
   "file_extension": ".py",
   "mimetype": "text/x-python",
   "name": "python",
   "nbconvert_exporter": "python",
   "pygments_lexer": "ipython3",
   "version": "3.6.10"
  }
 },
 "nbformat": 4,
 "nbformat_minor": 4
}
