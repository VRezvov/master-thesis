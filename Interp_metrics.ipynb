{
 "cells": [
  {
   "cell_type": "code",
   "execution_count": 1,
   "metadata": {},
   "outputs": [],
   "source": [
    "from math import exp\n",
    "from math import log10\n",
    "import numpy as np\n",
    "import torch\n",
    "import torch.nn.functional as F"
   ]
  },
  {
   "cell_type": "code",
   "execution_count": 2,
   "metadata": {},
   "outputs": [],
   "source": [
    "def gaussian(window_size, sigma):\n",
    "    gauss = torch.Tensor([exp(-(x - window_size // 2) ** 2 / float(2 * sigma ** 2)) for x in range(window_size)])\n",
    "    return gauss / gauss.sum()"
   ]
  },
  {
   "cell_type": "code",
   "execution_count": 3,
   "metadata": {},
   "outputs": [],
   "source": [
    "def create_window(window_size, channel):\n",
    "    _1D_window = gaussian(window_size, 1.5).unsqueeze(1)\n",
    "    _2D_window = _1D_window.mm(_1D_window.t()).float().unsqueeze(0).unsqueeze(0)\n",
    "    #.mm - Performs a matrix multiplication of the matrice\n",
    "    \n",
    "    window = _2D_window.expand(channel, 1, window_size, window_size).contiguous()\n",
    "    return window"
   ]
  },
  {
   "cell_type": "code",
   "execution_count": 4,
   "metadata": {},
   "outputs": [],
   "source": [
    "def _ssim(img1, img2, window, window_size, channel, size_average=True):\n",
    "    mu1 = F.conv2d(img1, window, padding=window_size // 2, groups=channel)\n",
    "    mu2 = F.conv2d(img2, window, padding=window_size // 2, groups=channel)\n",
    "\n",
    "    mu1_sq = mu1.pow(2)\n",
    "    mu2_sq = mu2.pow(2)\n",
    "    mu1_mu2 = mu1 * mu2\n",
    "\n",
    "    sigma1_sq = F.conv2d(img1 * img1, window, padding=window_size // 2, groups=channel) - mu1_sq\n",
    "    sigma2_sq = F.conv2d(img2 * img2, window, padding=window_size // 2, groups=channel) - mu2_sq\n",
    "    sigma12 = F.conv2d(img1 * img2, window, padding=window_size // 2, groups=channel) - mu1_mu2\n",
    "\n",
    "    C1 = 0.01 ** 2\n",
    "    C2 = 0.03 ** 2\n",
    "\n",
    "    ssim_map = ((2 * mu1_mu2 + C1) * (2 * sigma12 + C2)) / ((mu1_sq + mu2_sq + C1) * (sigma1_sq + sigma2_sq + C2))\n",
    "\n",
    "    if size_average:\n",
    "        return ssim_map.mean()\n",
    "    else:\n",
    "        return ssim_map.mean(1).mean(1).mean(1)"
   ]
  },
  {
   "cell_type": "code",
   "execution_count": 5,
   "metadata": {},
   "outputs": [],
   "source": [
    "def ssim(img1, img2, window_size=110, size_average=True):\n",
    "    (_, channel, _, _) = img1.size()\n",
    "    window = create_window(window_size, channel)\n",
    "\n",
    "    if img1.is_cuda:\n",
    "        window = window.cuda(img1.get_device())\n",
    "    window = window.type_as(img1)\n",
    "\n",
    "    return _ssim(img1, img2, window, window_size, channel, size_average)"
   ]
  },
  {
   "cell_type": "code",
   "execution_count": 6,
   "metadata": {},
   "outputs": [],
   "source": [
    "mse_metrics = 0.0\n",
    "rmse95_metrics = 0.0\n",
    "rmse_wind_metrics = 0.0\n",
    "rmse_slp_metrics = 0.0\n",
    "ssim_metrics = 0.0\n",
    "psnr_metrics = 0.0"
   ]
  },
  {
   "cell_type": "code",
   "execution_count": 8,
   "metadata": {},
   "outputs": [],
   "source": [
    "field = np.load('data/HiRes/Arrays/FIELD/field_2009.npy')\n",
    "field_interp = np.load('data/Interp/FIELD/field_cubic_2009.npy')\n",
    "\n",
    "wind_real = np.sqrt(np.square(field[:,0,:,:]) + np.square(field[:,1,:,:]))\n",
    "wind_interp = np.sqrt(np.square(field_interp[:,0,:,:]) + np.square(field_interp[:,1,:,:]))"
   ]
  },
  {
   "cell_type": "code",
   "execution_count": 9,
   "metadata": {},
   "outputs": [],
   "source": [
    "msk = np.load('data/HiRes/Arrays/Percentile/Mask_95.npy')\n",
    "mask = np.zeros_like(wind_real)\n",
    "\n",
    "for i in range(0,472):\n",
    "    mask[i,:,:] = msk[0,:,:]\n",
    "for i in range(472,1208):\n",
    "    mask[i,:,:] = msk[1,:,:]\n",
    "for i in range(1208,1944):\n",
    "    mask[i,:,:] = msk[2,:,:]\n",
    "for i in range(1944,2672):\n",
    "    mask[i,:,:] = msk[3,:,:]\n",
    "for i in range(2672,2920):\n",
    "    mask[i,:,:] = msk[0,:,:]"
   ]
  },
  {
   "cell_type": "code",
   "execution_count": 10,
   "metadata": {},
   "outputs": [],
   "source": [
    "field_norm = np.zeros_like(field)\n",
    "field_interp_norm = np.zeros_like(field_interp)\n",
    "\n",
    "field_norm[:,0,:,:] = (field[:,0,:,:]+40)/80\n",
    "field_norm[:,1,:,:] = (field[:,1,:,:]+40)/80\n",
    "field_norm[:,2,:,:] = (field[:,2,:,:]-940)/120\n",
    "\n",
    "field_interp_norm[:,0,:,:] = (field_interp[:,0,:,:]+40)/80\n",
    "field_interp_norm[:,1,:,:] = (field_interp[:,1,:,:]+40)/80\n",
    "field_interp_norm[:,2,:,:] = (field_interp[:,2,:,:]-940)/120\n",
    "\n",
    "diff_msk = (wind_real - mask) > 0\n",
    "wind_real_msk = wind_real * diff_msk\n",
    "wind_interp_msk = wind_interp * diff_msk\n",
    "\n",
    "mse_year = np.mean(np.square(field_norm - field_interp_norm))\n",
    "rmse_wind_year = np.sqrt(np.mean(np.square(wind_real - wind_interp)))\n",
    "rmse95_year = np.sqrt(np.sum(np.square(wind_real_msk - wind_interp_msk))/np.sum(diff_msk))\n",
    "rmse_slp_year = np.sqrt(np.mean(np.square(field[:,2,:,:] - field_interp[:,2,:,:])))\n",
    "\n",
    "mse_metrics += mse_year\n",
    "rmse95_metrics += rmse95_year\n",
    "rmse_wind_metrics += rmse_wind_year\n",
    "rmse_slp_metrics += rmse_slp_year\n",
    "\n",
    "psnr_metrics = 10 * log10(np.square(np.max(field_interp_norm)) / (mse_metrics))"
   ]
  },
  {
   "cell_type": "code",
   "execution_count": 11,
   "metadata": {},
   "outputs": [
    {
     "data": {
      "text/plain": [
       "1.4186985766988789"
      ]
     },
     "execution_count": 11,
     "metadata": {},
     "output_type": "execute_result"
    }
   ],
   "source": [
    "rmse_wind_metrics"
   ]
  },
  {
   "cell_type": "code",
   "execution_count": 12,
   "metadata": {},
   "outputs": [
    {
     "data": {
      "text/plain": [
       "1.837051195803751"
      ]
     },
     "execution_count": 12,
     "metadata": {},
     "output_type": "execute_result"
    }
   ],
   "source": [
    "rmse95_metrics"
   ]
  },
  {
   "cell_type": "code",
   "execution_count": 13,
   "metadata": {},
   "outputs": [
    {
     "data": {
      "text/plain": [
       "0.573412258339384"
      ]
     },
     "execution_count": 13,
     "metadata": {},
     "output_type": "execute_result"
    }
   ],
   "source": [
    "rmse_slp_metrics"
   ]
  },
  {
   "cell_type": "code",
   "execution_count": 14,
   "metadata": {},
   "outputs": [
    {
     "data": {
      "text/plain": [
       "35.25768516499361"
      ]
     },
     "execution_count": 14,
     "metadata": {},
     "output_type": "execute_result"
    }
   ],
   "source": [
    "psnr_metrics"
   ]
  },
  {
   "cell_type": "code",
   "execution_count": 15,
   "metadata": {},
   "outputs": [],
   "source": [
    "field = np.load('data/HiRes/Arrays/FIELD/field_2010.npy')\n",
    "field_interp = np.load('data/Interp/FIELD/field_cubic_2010.npy')\n",
    "\n",
    "wind_real = np.sqrt(np.square(field[:,0,:,:]) + np.square(field[:,1,:,:]))\n",
    "wind_interp = np.sqrt(np.square(field_interp[:,0,:,:]) + np.square(field_interp[:,1,:,:]))\n",
    "\n",
    "field_norm = np.zeros_like(field)\n",
    "field_interp_norm = np.zeros_like(field_interp)\n",
    "\n",
    "field_norm[:,0,:,:] = (field[:,0,:,:]+40)/80\n",
    "field_norm[:,1,:,:] = (field[:,1,:,:]+40)/80\n",
    "field_norm[:,2,:,:] = (field[:,2,:,:]-940)/120\n",
    "\n",
    "field_interp_norm[:,0,:,:] = (field_interp[:,0,:,:]+40)/80\n",
    "field_interp_norm[:,1,:,:] = (field_interp[:,1,:,:]+40)/80\n",
    "field_interp_norm[:,2,:,:] = (field_interp[:,2,:,:]-940)/120\n",
    "\n",
    "diff_msk = (wind_real - mask) > 0\n",
    "wind_real_msk = wind_real * diff_msk\n",
    "wind_interp_msk = wind_interp * diff_msk\n",
    "\n",
    "mse_year = np.mean(np.square(field_norm - field_interp_norm))\n",
    "rmse_wind_year = np.sqrt(np.mean(np.square(wind_real - wind_interp)))\n",
    "rmse95_year = np.sqrt(np.sum(np.square(wind_real_msk - wind_interp_msk))/np.sum(diff_msk))\n",
    "rmse_slp_year = np.sqrt(np.mean(np.square(field[:,2,:,:] - field_interp[:,2,:,:])))\n",
    "\n",
    "mse_metrics += mse_year\n",
    "rmse95_metrics += rmse95_year\n",
    "rmse_wind_metrics += rmse_wind_year\n",
    "rmse_slp_metrics += rmse_slp_year\n",
    "\n",
    "psnr_metrics = 10 * log10(np.square(np.max(field_interp_norm)) / (mse_metrics / 2))"
   ]
  },
  {
   "cell_type": "code",
   "execution_count": null,
   "metadata": {},
   "outputs": [],
   "source": [
    "#ssim_year = ssim(torch.from_numpy(field_interp_norm), torch.from_numpy(field_norm)).item()      \n",
    "#ssim_metrics += ssim_year"
   ]
  },
  {
   "cell_type": "code",
   "execution_count": 16,
   "metadata": {},
   "outputs": [
    {
     "data": {
      "text/plain": [
       "1.4290101152241677"
      ]
     },
     "execution_count": 16,
     "metadata": {},
     "output_type": "execute_result"
    }
   ],
   "source": [
    "rmse_wind_metrics/2"
   ]
  },
  {
   "cell_type": "code",
   "execution_count": 17,
   "metadata": {},
   "outputs": [
    {
     "data": {
      "text/plain": [
       "1.8804529347907661"
      ]
     },
     "execution_count": 17,
     "metadata": {},
     "output_type": "execute_result"
    }
   ],
   "source": [
    "rmse95_metrics/2"
   ]
  },
  {
   "cell_type": "code",
   "execution_count": 18,
   "metadata": {},
   "outputs": [
    {
     "data": {
      "text/plain": [
       "0.5693507058639113"
      ]
     },
     "execution_count": 18,
     "metadata": {},
     "output_type": "execute_result"
    }
   ],
   "source": [
    "rmse_slp_metrics/2"
   ]
  },
  {
   "cell_type": "code",
   "execution_count": 20,
   "metadata": {},
   "outputs": [
    {
     "data": {
      "text/plain": [
       "35.42111420803743"
      ]
     },
     "execution_count": 20,
     "metadata": {},
     "output_type": "execute_result"
    }
   ],
   "source": [
    "psnr_metrics"
   ]
  },
  {
   "cell_type": "code",
   "execution_count": 21,
   "metadata": {},
   "outputs": [],
   "source": [
    "field = np.load('data/HiRes/Arrays/FIELD/field_2011.npy')\n",
    "field_interp = np.load('data/Interp/FIELD/field_cubic_2011.npy')\n",
    "\n",
    "wind_real = np.sqrt(np.square(field[:,0,:,:]) + np.square(field[:,1,:,:]))\n",
    "wind_interp = np.sqrt(np.square(field_interp[:,0,:,:]) + np.square(field_interp[:,1,:,:]))\n",
    "\n",
    "field_norm = np.zeros_like(field)\n",
    "field_interp_norm = np.zeros_like(field_interp)\n",
    "\n",
    "field_norm[:,0,:,:] = (field[:,0,:,:]+40)/80\n",
    "field_norm[:,1,:,:] = (field[:,1,:,:]+40)/80\n",
    "field_norm[:,2,:,:] = (field[:,2,:,:]-940)/120\n",
    "\n",
    "field_interp_norm[:,0,:,:] = (field_interp[:,0,:,:]+40)/80\n",
    "field_interp_norm[:,1,:,:] = (field_interp[:,1,:,:]+40)/80\n",
    "field_interp_norm[:,2,:,:] = (field_interp[:,2,:,:]-940)/120\n",
    "\n",
    "diff_msk = (wind_real - mask) > 0\n",
    "wind_real_msk = wind_real * diff_msk\n",
    "wind_interp_msk = wind_interp * diff_msk\n",
    "\n",
    "mse_year = np.mean(np.square(field_norm - field_interp_norm))\n",
    "rmse_wind_year = np.sqrt(np.mean(np.square(wind_real - wind_interp)))\n",
    "rmse95_year = np.sqrt(np.sum(np.square(wind_real_msk - wind_interp_msk))/np.sum(diff_msk))\n",
    "rmse_slp_year = np.sqrt(np.mean(np.square(field[:,2,:,:] - field_interp[:,2,:,:])))\n",
    "\n",
    "mse_metrics += mse_year\n",
    "rmse95_metrics += rmse95_year\n",
    "rmse_wind_metrics += rmse_wind_year\n",
    "rmse_slp_metrics += rmse_slp_year\n",
    "\n",
    "psnr_metrics = 10 * log10(np.square(np.max(field_interp_norm)) / (mse_metrics / 3))"
   ]
  },
  {
   "cell_type": "code",
   "execution_count": 22,
   "metadata": {},
   "outputs": [
    {
     "data": {
      "text/plain": [
       "1.4295488027383882"
      ]
     },
     "execution_count": 22,
     "metadata": {},
     "output_type": "execute_result"
    }
   ],
   "source": [
    "rmse_wind_metrics/3"
   ]
  },
  {
   "cell_type": "code",
   "execution_count": 23,
   "metadata": {},
   "outputs": [
    {
     "data": {
      "text/plain": [
       "1.880225783093158"
      ]
     },
     "execution_count": 23,
     "metadata": {},
     "output_type": "execute_result"
    }
   ],
   "source": [
    "rmse95_metrics/3"
   ]
  },
  {
   "cell_type": "code",
   "execution_count": 24,
   "metadata": {},
   "outputs": [
    {
     "data": {
      "text/plain": [
       "0.5694470457432342"
      ]
     },
     "execution_count": 24,
     "metadata": {},
     "output_type": "execute_result"
    }
   ],
   "source": [
    "rmse_slp_metrics/3"
   ]
  },
  {
   "cell_type": "code",
   "execution_count": 25,
   "metadata": {},
   "outputs": [
    {
     "data": {
      "text/plain": [
       "34.72823381223792"
      ]
     },
     "execution_count": 25,
     "metadata": {},
     "output_type": "execute_result"
    }
   ],
   "source": [
    "psnr_metrics"
   ]
  },
  {
   "cell_type": "code",
   "execution_count": 26,
   "metadata": {},
   "outputs": [],
   "source": [
    "field = np.load('data/HiRes/Arrays/FIELD/field_2012.npy')\n",
    "field_interp = np.load('data/Interp/FIELD/field_cubic_2012.npy')\n",
    "\n",
    "wind_real = np.sqrt(np.square(field[:,0,:,:]) + np.square(field[:,1,:,:]))\n",
    "wind_interp = np.sqrt(np.square(field_interp[:,0,:,:]) + np.square(field_interp[:,1,:,:]))\n",
    "\n",
    "msk = np.load('data/HiRes/Arrays/Percentile/Mask_95.npy')\n",
    "mask = np.zeros_like(wind_real)\n",
    "\n",
    "for i in range(0,480):\n",
    "    mask[i,:,:] = msk[0,:,:]\n",
    "for i in range(480,1216):\n",
    "    mask[i,:,:] = msk[1,:,:]\n",
    "for i in range(1216,1952):\n",
    "    mask[i,:,:] = msk[2,:,:]\n",
    "for i in range(1952,2680):\n",
    "    mask[i,:,:] = msk[3,:,:]\n",
    "for i in range(2680,2928):\n",
    "    mask[i,:,:] = msk[0,:,:]\n",
    "\n",
    "field_norm = np.zeros_like(field)\n",
    "field_interp_norm = np.zeros_like(field_interp)\n",
    "\n",
    "field_norm[:,0,:,:] = (field[:,0,:,:]+40)/80\n",
    "field_norm[:,1,:,:] = (field[:,1,:,:]+40)/80\n",
    "field_norm[:,2,:,:] = (field[:,2,:,:]-940)/120\n",
    "\n",
    "field_interp_norm[:,0,:,:] = (field_interp[:,0,:,:]+40)/80\n",
    "field_interp_norm[:,1,:,:] = (field_interp[:,1,:,:]+40)/80\n",
    "field_interp_norm[:,2,:,:] = (field_interp[:,2,:,:]-940)/120\n",
    "\n",
    "diff_msk = (wind_real - mask) > 0\n",
    "wind_real_msk = wind_real * diff_msk\n",
    "wind_interp_msk = wind_interp * diff_msk\n",
    "\n",
    "mse_year = np.mean(np.square(field_norm - field_interp_norm))\n",
    "rmse_wind_year = np.sqrt(np.mean(np.square(wind_real - wind_interp)))\n",
    "rmse95_year = np.sqrt(np.sum(np.square(wind_real_msk - wind_interp_msk))/np.sum(diff_msk))\n",
    "rmse_slp_year = np.sqrt(np.mean(np.square(field[:,2,:,:] - field_interp[:,2,:,:])))\n",
    "\n",
    "mse_metrics += mse_year\n",
    "rmse95_metrics += rmse95_year\n",
    "rmse_wind_metrics += rmse_wind_year\n",
    "rmse_slp_metrics += rmse_slp_year\n",
    "\n",
    "psnr_metrics = 10 * log10(np.square(np.max(field_interp_norm)) / (mse_metrics / 4))"
   ]
  },
  {
   "cell_type": "code",
   "execution_count": 27,
   "metadata": {},
   "outputs": [
    {
     "data": {
      "text/plain": [
       "1.4302844339480751"
      ]
     },
     "execution_count": 27,
     "metadata": {},
     "output_type": "execute_result"
    }
   ],
   "source": [
    "rmse_wind_metrics/4"
   ]
  },
  {
   "cell_type": "code",
   "execution_count": 28,
   "metadata": {},
   "outputs": [
    {
     "data": {
      "text/plain": [
       "1.8858839921282629"
      ]
     },
     "execution_count": 28,
     "metadata": {},
     "output_type": "execute_result"
    }
   ],
   "source": [
    "rmse95_metrics/4"
   ]
  },
  {
   "cell_type": "code",
   "execution_count": 29,
   "metadata": {},
   "outputs": [
    {
     "data": {
      "text/plain": [
       "0.571511768773811"
      ]
     },
     "execution_count": 29,
     "metadata": {},
     "output_type": "execute_result"
    }
   ],
   "source": [
    "rmse_slp_metrics/4"
   ]
  },
  {
   "cell_type": "code",
   "execution_count": 30,
   "metadata": {},
   "outputs": [
    {
     "data": {
      "text/plain": [
       "35.43503372713172"
      ]
     },
     "execution_count": 30,
     "metadata": {},
     "output_type": "execute_result"
    }
   ],
   "source": [
    "psnr_metrics"
   ]
  },
  {
   "cell_type": "code",
   "execution_count": 31,
   "metadata": {},
   "outputs": [],
   "source": [
    "field = np.load('data/HiRes/Arrays/FIELD/field_2013.npy')\n",
    "field_interp = np.load('data/Interp/FIELD/field_cubic_2013.npy')\n",
    "\n",
    "wind_real = np.sqrt(np.square(field[:,0,:,:]) + np.square(field[:,1,:,:]))\n",
    "wind_interp = np.sqrt(np.square(field_interp[:,0,:,:]) + np.square(field_interp[:,1,:,:]))\n",
    "\n",
    "msk = np.load('data/HiRes/Arrays/Percentile/Mask_95.npy')\n",
    "mask = np.zeros_like(wind_real)\n",
    "\n",
    "for i in range(0,472):\n",
    "    mask[i,:,:] = msk[0,:,:]\n",
    "for i in range(472,1208):\n",
    "    mask[i,:,:] = msk[1,:,:]\n",
    "for i in range(1208,1944):\n",
    "    mask[i,:,:] = msk[2,:,:]\n",
    "for i in range(1944,2672):\n",
    "    mask[i,:,:] = msk[3,:,:]\n",
    "for i in range(2672,2920):\n",
    "    mask[i,:,:] = msk[0,:,:]\n",
    "\n",
    "field_norm = np.zeros_like(field)\n",
    "field_interp_norm = np.zeros_like(field_interp)\n",
    "\n",
    "field_norm[:,0,:,:] = (field[:,0,:,:]+40)/80\n",
    "field_norm[:,1,:,:] = (field[:,1,:,:]+40)/80\n",
    "field_norm[:,2,:,:] = (field[:,2,:,:]-940)/120\n",
    "\n",
    "field_interp_norm[:,0,:,:] = (field_interp[:,0,:,:]+40)/80\n",
    "field_interp_norm[:,1,:,:] = (field_interp[:,1,:,:]+40)/80\n",
    "field_interp_norm[:,2,:,:] = (field_interp[:,2,:,:]-940)/120\n",
    "\n",
    "diff_msk = (wind_real - mask) > 0\n",
    "wind_real_msk = wind_real * diff_msk\n",
    "wind_interp_msk = wind_interp * diff_msk\n",
    "\n",
    "mse_year = np.mean(np.square(field_norm - field_interp_norm))\n",
    "rmse_wind_year = np.sqrt(np.mean(np.square(wind_real - wind_interp)))\n",
    "rmse95_year = np.sqrt(np.sum(np.square(wind_real_msk - wind_interp_msk))/np.sum(diff_msk))\n",
    "rmse_slp_year = np.sqrt(np.mean(np.square(field[:,2,:,:] - field_interp[:,2,:,:])))\n",
    "\n",
    "mse_metrics += mse_year\n",
    "rmse95_metrics += rmse95_year\n",
    "rmse_wind_metrics += rmse_wind_year\n",
    "rmse_slp_metrics += rmse_slp_year\n",
    "\n",
    "psnr_metrics = 10 * log10(np.square(np.max(field_interp_norm)) / (mse_metrics / 5))"
   ]
  },
  {
   "cell_type": "code",
   "execution_count": 32,
   "metadata": {},
   "outputs": [
    {
     "data": {
      "text/plain": [
       "1.4319145895662395"
      ]
     },
     "execution_count": 32,
     "metadata": {},
     "output_type": "execute_result"
    }
   ],
   "source": [
    "rmse_wind_metrics/5"
   ]
  },
  {
   "cell_type": "code",
   "execution_count": 33,
   "metadata": {},
   "outputs": [
    {
     "data": {
      "text/plain": [
       "1.8846636972256992"
      ]
     },
     "execution_count": 33,
     "metadata": {},
     "output_type": "execute_result"
    }
   ],
   "source": [
    "rmse95_metrics/5"
   ]
  },
  {
   "cell_type": "code",
   "execution_count": 34,
   "metadata": {},
   "outputs": [
    {
     "data": {
      "text/plain": [
       "0.5724475210521721"
      ]
     },
     "execution_count": 34,
     "metadata": {},
     "output_type": "execute_result"
    }
   ],
   "source": [
    "rmse_slp_metrics/5"
   ]
  },
  {
   "cell_type": "code",
   "execution_count": 35,
   "metadata": {},
   "outputs": [
    {
     "data": {
      "text/plain": [
       "35.47967770411597"
      ]
     },
     "execution_count": 35,
     "metadata": {},
     "output_type": "execute_result"
    }
   ],
   "source": [
    "psnr_metrics"
   ]
  },
  {
   "cell_type": "code",
   "execution_count": 36,
   "metadata": {},
   "outputs": [],
   "source": [
    "field = np.load('data/HiRes/Arrays/FIELD/field_2014.npy')\n",
    "field_interp = np.load('data/Interp/FIELD/field_cubic_2014.npy')\n",
    "\n",
    "wind_real = np.sqrt(np.square(field[:,0,:,:]) + np.square(field[:,1,:,:]))\n",
    "wind_interp = np.sqrt(np.square(field_interp[:,0,:,:]) + np.square(field_interp[:,1,:,:]))\n",
    "\n",
    "msk = np.load('data/HiRes/Arrays/Percentile/Mask_95.npy')\n",
    "mask = np.zeros_like(wind_real)\n",
    "\n",
    "for i in range(0,472):\n",
    "    mask[i,:,:] = msk[0,:,:]\n",
    "for i in range(472,1208):\n",
    "    mask[i,:,:] = msk[1,:,:]\n",
    "for i in range(1208,1944):\n",
    "    mask[i,:,:] = msk[2,:,:]\n",
    "for i in range(1944,2672):\n",
    "    mask[i,:,:] = msk[3,:,:]\n",
    "for i in range(2672,2920):\n",
    "    mask[i,:,:] = msk[0,:,:]\n",
    "\n",
    "field_norm = np.zeros_like(field)\n",
    "field_interp_norm = np.zeros_like(field_interp)\n",
    "\n",
    "field_norm[:,0,:,:] = (field[:,0,:,:]+40)/80\n",
    "field_norm[:,1,:,:] = (field[:,1,:,:]+40)/80\n",
    "field_norm[:,2,:,:] = (field[:,2,:,:]-940)/120\n",
    "\n",
    "field_interp_norm[:,0,:,:] = (field_interp[:,0,:,:]+40)/80\n",
    "field_interp_norm[:,1,:,:] = (field_interp[:,1,:,:]+40)/80\n",
    "field_interp_norm[:,2,:,:] = (field_interp[:,2,:,:]-940)/120\n",
    "\n",
    "diff_msk = (wind_real - mask) > 0\n",
    "wind_real_msk = wind_real * diff_msk\n",
    "wind_interp_msk = wind_interp * diff_msk\n",
    "\n",
    "mse_year = np.mean(np.square(field_norm - field_interp_norm))\n",
    "rmse_wind_year = np.sqrt(np.mean(np.square(wind_real - wind_interp)))\n",
    "rmse95_year = np.sqrt(np.sum(np.square(wind_real_msk - wind_interp_msk))/np.sum(diff_msk))\n",
    "rmse_slp_year = np.sqrt(np.mean(np.square(field[:,2,:,:] - field_interp[:,2,:,:])))\n",
    "\n",
    "mse_metrics += mse_year\n",
    "rmse95_metrics += rmse95_year\n",
    "rmse_wind_metrics += rmse_wind_year\n",
    "rmse_slp_metrics += rmse_slp_year\n",
    "\n",
    "psnr_metrics = 10 * log10(np.square(np.max(field_interp_norm)) / (mse_metrics / 6))"
   ]
  },
  {
   "cell_type": "code",
   "execution_count": 37,
   "metadata": {},
   "outputs": [
    {
     "data": {
      "text/plain": [
       "1.4336984043950818"
      ]
     },
     "execution_count": 37,
     "metadata": {},
     "output_type": "execute_result"
    }
   ],
   "source": [
    "rmse_wind_metrics/6"
   ]
  },
  {
   "cell_type": "code",
   "execution_count": 38,
   "metadata": {},
   "outputs": [
    {
     "data": {
      "text/plain": [
       "1.8950045969029483"
      ]
     },
     "execution_count": 38,
     "metadata": {},
     "output_type": "execute_result"
    }
   ],
   "source": [
    "rmse95_metrics/6"
   ]
  },
  {
   "cell_type": "code",
   "execution_count": 39,
   "metadata": {},
   "outputs": [
    {
     "data": {
      "text/plain": [
       "0.57384619961254"
      ]
     },
     "execution_count": 39,
     "metadata": {},
     "output_type": "execute_result"
    }
   ],
   "source": [
    "rmse_slp_metrics/6"
   ]
  },
  {
   "cell_type": "code",
   "execution_count": 40,
   "metadata": {},
   "outputs": [
    {
     "data": {
      "text/plain": [
       "35.02858298383442"
      ]
     },
     "execution_count": 40,
     "metadata": {},
     "output_type": "execute_result"
    }
   ],
   "source": [
    "psnr_metrics"
   ]
  },
  {
   "cell_type": "code",
   "execution_count": 41,
   "metadata": {},
   "outputs": [],
   "source": [
    "field = np.load('data/HiRes/Arrays/FIELD/field_2015.npy')\n",
    "field_interp = np.load('data/Interp/FIELD/field_cubic_2015.npy')\n",
    "\n",
    "wind_real = np.sqrt(np.square(field[:,0,:,:]) + np.square(field[:,1,:,:]))\n",
    "wind_interp = np.sqrt(np.square(field_interp[:,0,:,:]) + np.square(field_interp[:,1,:,:]))\n",
    "\n",
    "msk = np.load('data/HiRes/Arrays/Percentile/Mask_95.npy')\n",
    "mask = np.zeros_like(wind_real)\n",
    "\n",
    "for i in range(0,472):\n",
    "    mask[i,:,:] = msk[0,:,:]\n",
    "for i in range(472,1208):\n",
    "    mask[i,:,:] = msk[1,:,:]\n",
    "for i in range(1208,1944):\n",
    "    mask[i,:,:] = msk[2,:,:]\n",
    "for i in range(1944,2672):\n",
    "    mask[i,:,:] = msk[3,:,:]\n",
    "for i in range(2672,2920):\n",
    "    mask[i,:,:] = msk[0,:,:]\n",
    "\n",
    "field_norm = np.zeros_like(field)\n",
    "field_interp_norm = np.zeros_like(field_interp)\n",
    "\n",
    "field_norm[:,0,:,:] = (field[:,0,:,:]+40)/80\n",
    "field_norm[:,1,:,:] = (field[:,1,:,:]+40)/80\n",
    "field_norm[:,2,:,:] = (field[:,2,:,:]-940)/120\n",
    "\n",
    "field_interp_norm[:,0,:,:] = (field_interp[:,0,:,:]+40)/80\n",
    "field_interp_norm[:,1,:,:] = (field_interp[:,1,:,:]+40)/80\n",
    "field_interp_norm[:,2,:,:] = (field_interp[:,2,:,:]-940)/120\n",
    "\n",
    "diff_msk = (wind_real - mask) > 0\n",
    "wind_real_msk = wind_real * diff_msk\n",
    "wind_interp_msk = wind_interp * diff_msk\n",
    "\n",
    "mse_year = np.mean(np.square(field_norm - field_interp_norm))\n",
    "rmse_wind_year = np.sqrt(np.mean(np.square(wind_real - wind_interp)))\n",
    "rmse95_year = np.sqrt(np.sum(np.square(wind_real_msk - wind_interp_msk))/np.sum(diff_msk))\n",
    "rmse_slp_year = np.sqrt(np.mean(np.square(field[:,2,:,:] - field_interp[:,2,:,:])))\n",
    "\n",
    "mse_metrics += mse_year\n",
    "rmse95_metrics += rmse95_year\n",
    "rmse_wind_metrics += rmse_wind_year\n",
    "rmse_slp_metrics += rmse_slp_year\n",
    "\n",
    "psnr_metrics = 10 * log10(np.square(np.max(field_interp_norm)) / (mse_metrics / 7))"
   ]
  },
  {
   "cell_type": "code",
   "execution_count": 42,
   "metadata": {},
   "outputs": [
    {
     "data": {
      "text/plain": [
       "1.4361767888728154"
      ]
     },
     "execution_count": 42,
     "metadata": {},
     "output_type": "execute_result"
    }
   ],
   "source": [
    "rmse_wind_metrics/7"
   ]
  },
  {
   "cell_type": "code",
   "execution_count": 43,
   "metadata": {},
   "outputs": [
    {
     "data": {
      "text/plain": [
       "1.897363669812486"
      ]
     },
     "execution_count": 43,
     "metadata": {},
     "output_type": "execute_result"
    }
   ],
   "source": [
    "rmse95_metrics/7"
   ]
  },
  {
   "cell_type": "code",
   "execution_count": 44,
   "metadata": {},
   "outputs": [
    {
     "data": {
      "text/plain": [
       "0.576601691249192"
      ]
     },
     "execution_count": 44,
     "metadata": {},
     "output_type": "execute_result"
    }
   ],
   "source": [
    "rmse_slp_metrics/7"
   ]
  },
  {
   "cell_type": "code",
   "execution_count": 45,
   "metadata": {},
   "outputs": [
    {
     "data": {
      "text/plain": [
       "35.07976155095143"
      ]
     },
     "execution_count": 45,
     "metadata": {},
     "output_type": "execute_result"
    }
   ],
   "source": [
    "psnr_metrics"
   ]
  },
  {
   "cell_type": "code",
   "execution_count": 47,
   "metadata": {},
   "outputs": [],
   "source": [
    "field = np.load('data/HiRes/Arrays/FIELD/field_2016.npy')\n",
    "field_interp = np.load('data/Interp/FIELD/field_cubic_2016.npy')\n",
    "\n",
    "wind_real = np.sqrt(np.square(field[:,0,:,:]) + np.square(field[:,1,:,:]))\n",
    "wind_interp = np.sqrt(np.square(field_interp[:,0,:,:]) + np.square(field_interp[:,1,:,:]))\n",
    "\n",
    "msk = np.load('data/HiRes/Arrays/Percentile/Mask_95.npy')\n",
    "mask = np.zeros_like(wind_real)\n",
    "\n",
    "for i in range(0,480):\n",
    "    mask[i,:,:] = msk[0,:,:]\n",
    "for i in range(480,1216):\n",
    "    mask[i,:,:] = msk[1,:,:]\n",
    "for i in range(1216,1952):\n",
    "    mask[i,:,:] = msk[2,:,:]\n",
    "for i in range(1952,2680):\n",
    "    mask[i,:,:] = msk[3,:,:]\n",
    "for i in range(2680,2927):\n",
    "    mask[i,:,:] = msk[0,:,:]\n",
    "\n",
    "field_norm = np.zeros_like(field)\n",
    "field_interp_norm = np.zeros_like(field_interp)\n",
    "\n",
    "field_norm[:,0,:,:] = (field[:,0,:,:]+40)/80\n",
    "field_norm[:,1,:,:] = (field[:,1,:,:]+40)/80\n",
    "field_norm[:,2,:,:] = (field[:,2,:,:]-940)/120\n",
    "\n",
    "field_interp_norm[:,0,:,:] = (field_interp[:,0,:,:]+40)/80\n",
    "field_interp_norm[:,1,:,:] = (field_interp[:,1,:,:]+40)/80\n",
    "field_interp_norm[:,2,:,:] = (field_interp[:,2,:,:]-940)/120\n",
    "\n",
    "diff_msk = (wind_real - mask) > 0\n",
    "wind_real_msk = wind_real * diff_msk\n",
    "wind_interp_msk = wind_interp * diff_msk\n",
    "\n",
    "mse_year = np.mean(np.square(field_norm - field_interp_norm))\n",
    "rmse_wind_year = np.sqrt(np.mean(np.square(wind_real - wind_interp)))\n",
    "rmse95_year = np.sqrt(np.sum(np.square(wind_real_msk - wind_interp_msk))/np.sum(diff_msk))\n",
    "rmse_slp_year = np.sqrt(np.mean(np.square(field[:,2,:,:] - field_interp[:,2,:,:])))\n",
    "\n",
    "mse_metrics += mse_year\n",
    "rmse95_metrics += rmse95_year\n",
    "rmse_wind_metrics += rmse_wind_year\n",
    "rmse_slp_metrics += rmse_slp_year\n",
    "\n",
    "psnr_metrics = 10 * log10(np.square(np.max(field_interp_norm)) / (mse_metrics / 8))"
   ]
  },
  {
   "cell_type": "code",
   "execution_count": 48,
   "metadata": {},
   "outputs": [
    {
     "data": {
      "text/plain": [
       "1.4356595539108943"
      ]
     },
     "execution_count": 48,
     "metadata": {},
     "output_type": "execute_result"
    }
   ],
   "source": [
    "rmse_wind_metrics/8"
   ]
  },
  {
   "cell_type": "code",
   "execution_count": 49,
   "metadata": {},
   "outputs": [
    {
     "data": {
      "text/plain": [
       "1.8976389783668184"
      ]
     },
     "execution_count": 49,
     "metadata": {},
     "output_type": "execute_result"
    }
   ],
   "source": [
    "rmse95_metrics/8"
   ]
  },
  {
   "cell_type": "code",
   "execution_count": 50,
   "metadata": {},
   "outputs": [
    {
     "data": {
      "text/plain": [
       "0.5762417411895537"
      ]
     },
     "execution_count": 50,
     "metadata": {},
     "output_type": "execute_result"
    }
   ],
   "source": [
    "rmse_slp_metrics/8"
   ]
  },
  {
   "cell_type": "code",
   "execution_count": 51,
   "metadata": {},
   "outputs": [
    {
     "data": {
      "text/plain": [
       "35.15908203751223"
      ]
     },
     "execution_count": 51,
     "metadata": {},
     "output_type": "execute_result"
    }
   ],
   "source": [
    "psnr_metrics"
   ]
  }
 ],
 "metadata": {
  "kernelspec": {
   "display_name": "Python 3",
   "language": "python",
   "name": "python3"
  },
  "language_info": {
   "codemirror_mode": {
    "name": "ipython",
    "version": 3
   },
   "file_extension": ".py",
   "mimetype": "text/x-python",
   "name": "python",
   "nbconvert_exporter": "python",
   "pygments_lexer": "ipython3",
   "version": "3.6.10"
  }
 },
 "nbformat": 4,
 "nbformat_minor": 4
}
