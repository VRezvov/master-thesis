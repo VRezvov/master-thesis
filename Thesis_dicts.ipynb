{
 "cells": [
  {
   "cell_type": "code",
   "execution_count": 1,
   "metadata": {},
   "outputs": [],
   "source": [
    "import numpy as np\n",
    "from os import listdir\n",
    "from os.path import join\n",
    "import pickle\n",
    "import uuid"
   ]
  },
  {
   "cell_type": "code",
   "execution_count": 2,
   "metadata": {},
   "outputs": [],
   "source": [
    "field_dir_lores = 'data/LoRes/Arrays/FIELD/'\n",
    "field_dir_hires = 'data/HiRes/Arrays/FIELD/'\n",
    "date_time_dir = 'data/LoRes/Arrays/DATE_TIME/'"
   ]
  },
  {
   "cell_type": "code",
   "execution_count": 3,
   "metadata": {},
   "outputs": [],
   "source": [
    "def find_files(dataset_dir):\n",
    "    image_filenames = [join(dataset_dir, x) for x in listdir(dataset_dir)]\n",
    "    return image_filenames"
   ]
  },
  {
   "cell_type": "code",
   "execution_count": 4,
   "metadata": {},
   "outputs": [],
   "source": [
    "lores_datafiles = [f for f in find_files(field_dir_lores)]\n",
    "lores_datafiles.sort()\n",
    "hires_datafiles = [f for f in find_files(field_dir_hires)]\n",
    "hires_datafiles.sort()\n",
    "date_time_datafiles = [f for f in find_files(date_time_dir)]\n",
    "date_time_datafiles.sort()"
   ]
  },
  {
   "cell_type": "code",
   "execution_count": 5,
   "metadata": {},
   "outputs": [
    {
     "data": {
      "text/plain": [
       "['data/LoRes/Arrays/FIELD/field_1979.npy',\n",
       " 'data/LoRes/Arrays/FIELD/field_1980.npy',\n",
       " 'data/LoRes/Arrays/FIELD/field_1981.npy',\n",
       " 'data/LoRes/Arrays/FIELD/field_1982.npy',\n",
       " 'data/LoRes/Arrays/FIELD/field_1983.npy',\n",
       " 'data/LoRes/Arrays/FIELD/field_1984.npy',\n",
       " 'data/LoRes/Arrays/FIELD/field_1985.npy',\n",
       " 'data/LoRes/Arrays/FIELD/field_1986.npy',\n",
       " 'data/LoRes/Arrays/FIELD/field_1987.npy',\n",
       " 'data/LoRes/Arrays/FIELD/field_1988.npy',\n",
       " 'data/LoRes/Arrays/FIELD/field_1989.npy',\n",
       " 'data/LoRes/Arrays/FIELD/field_1990.npy',\n",
       " 'data/LoRes/Arrays/FIELD/field_1991.npy',\n",
       " 'data/LoRes/Arrays/FIELD/field_1992.npy',\n",
       " 'data/LoRes/Arrays/FIELD/field_1993.npy',\n",
       " 'data/LoRes/Arrays/FIELD/field_1994.npy',\n",
       " 'data/LoRes/Arrays/FIELD/field_1995.npy',\n",
       " 'data/LoRes/Arrays/FIELD/field_1996.npy',\n",
       " 'data/LoRes/Arrays/FIELD/field_1997.npy',\n",
       " 'data/LoRes/Arrays/FIELD/field_1998.npy',\n",
       " 'data/LoRes/Arrays/FIELD/field_1999.npy',\n",
       " 'data/LoRes/Arrays/FIELD/field_2000.npy',\n",
       " 'data/LoRes/Arrays/FIELD/field_2001.npy',\n",
       " 'data/LoRes/Arrays/FIELD/field_2002.npy',\n",
       " 'data/LoRes/Arrays/FIELD/field_2003.npy',\n",
       " 'data/LoRes/Arrays/FIELD/field_2004.npy',\n",
       " 'data/LoRes/Arrays/FIELD/field_2005.npy',\n",
       " 'data/LoRes/Arrays/FIELD/field_2006.npy',\n",
       " 'data/LoRes/Arrays/FIELD/field_2007.npy',\n",
       " 'data/LoRes/Arrays/FIELD/field_2008.npy',\n",
       " 'data/LoRes/Arrays/FIELD/field_2009.npy',\n",
       " 'data/LoRes/Arrays/FIELD/field_2010.npy',\n",
       " 'data/LoRes/Arrays/FIELD/field_2011.npy',\n",
       " 'data/LoRes/Arrays/FIELD/field_2012.npy',\n",
       " 'data/LoRes/Arrays/FIELD/field_2013.npy',\n",
       " 'data/LoRes/Arrays/FIELD/field_2014.npy',\n",
       " 'data/LoRes/Arrays/FIELD/field_2015.npy',\n",
       " 'data/LoRes/Arrays/FIELD/field_2016.npy']"
      ]
     },
     "execution_count": 5,
     "metadata": {},
     "output_type": "execute_result"
    }
   ],
   "source": [
    "lores_datafiles"
   ]
  },
  {
   "cell_type": "code",
   "execution_count": 6,
   "metadata": {},
   "outputs": [
    {
     "data": {
      "text/plain": [
       "['data/HiRes/Arrays/FIELD/field_1979.npy',\n",
       " 'data/HiRes/Arrays/FIELD/field_1980.npy',\n",
       " 'data/HiRes/Arrays/FIELD/field_1981.npy',\n",
       " 'data/HiRes/Arrays/FIELD/field_1982.npy',\n",
       " 'data/HiRes/Arrays/FIELD/field_1983.npy',\n",
       " 'data/HiRes/Arrays/FIELD/field_1984.npy',\n",
       " 'data/HiRes/Arrays/FIELD/field_1985.npy',\n",
       " 'data/HiRes/Arrays/FIELD/field_1986.npy',\n",
       " 'data/HiRes/Arrays/FIELD/field_1987.npy',\n",
       " 'data/HiRes/Arrays/FIELD/field_1988.npy',\n",
       " 'data/HiRes/Arrays/FIELD/field_1989.npy',\n",
       " 'data/HiRes/Arrays/FIELD/field_1990.npy',\n",
       " 'data/HiRes/Arrays/FIELD/field_1991.npy',\n",
       " 'data/HiRes/Arrays/FIELD/field_1992.npy',\n",
       " 'data/HiRes/Arrays/FIELD/field_1993.npy',\n",
       " 'data/HiRes/Arrays/FIELD/field_1994.npy',\n",
       " 'data/HiRes/Arrays/FIELD/field_1995.npy',\n",
       " 'data/HiRes/Arrays/FIELD/field_1996.npy',\n",
       " 'data/HiRes/Arrays/FIELD/field_1997.npy',\n",
       " 'data/HiRes/Arrays/FIELD/field_1998.npy',\n",
       " 'data/HiRes/Arrays/FIELD/field_1999.npy',\n",
       " 'data/HiRes/Arrays/FIELD/field_2000.npy',\n",
       " 'data/HiRes/Arrays/FIELD/field_2001.npy',\n",
       " 'data/HiRes/Arrays/FIELD/field_2002.npy',\n",
       " 'data/HiRes/Arrays/FIELD/field_2003.npy',\n",
       " 'data/HiRes/Arrays/FIELD/field_2004.npy',\n",
       " 'data/HiRes/Arrays/FIELD/field_2005.npy',\n",
       " 'data/HiRes/Arrays/FIELD/field_2006.npy',\n",
       " 'data/HiRes/Arrays/FIELD/field_2007.npy',\n",
       " 'data/HiRes/Arrays/FIELD/field_2008.npy',\n",
       " 'data/HiRes/Arrays/FIELD/field_2009.npy',\n",
       " 'data/HiRes/Arrays/FIELD/field_2010.npy',\n",
       " 'data/HiRes/Arrays/FIELD/field_2011.npy',\n",
       " 'data/HiRes/Arrays/FIELD/field_2012.npy',\n",
       " 'data/HiRes/Arrays/FIELD/field_2013.npy',\n",
       " 'data/HiRes/Arrays/FIELD/field_2014.npy',\n",
       " 'data/HiRes/Arrays/FIELD/field_2015.npy',\n",
       " 'data/HiRes/Arrays/FIELD/field_2016.npy']"
      ]
     },
     "execution_count": 6,
     "metadata": {},
     "output_type": "execute_result"
    }
   ],
   "source": [
    "hires_datafiles"
   ]
  },
  {
   "cell_type": "code",
   "execution_count": 7,
   "metadata": {},
   "outputs": [
    {
     "data": {
      "text/plain": [
       "['data/LoRes/Arrays/DATE_TIME/DATE_TIME_1979.npy',\n",
       " 'data/LoRes/Arrays/DATE_TIME/DATE_TIME_1980.npy',\n",
       " 'data/LoRes/Arrays/DATE_TIME/DATE_TIME_1981.npy',\n",
       " 'data/LoRes/Arrays/DATE_TIME/DATE_TIME_1982.npy',\n",
       " 'data/LoRes/Arrays/DATE_TIME/DATE_TIME_1983.npy',\n",
       " 'data/LoRes/Arrays/DATE_TIME/DATE_TIME_1984.npy',\n",
       " 'data/LoRes/Arrays/DATE_TIME/DATE_TIME_1985.npy',\n",
       " 'data/LoRes/Arrays/DATE_TIME/DATE_TIME_1986.npy',\n",
       " 'data/LoRes/Arrays/DATE_TIME/DATE_TIME_1987.npy',\n",
       " 'data/LoRes/Arrays/DATE_TIME/DATE_TIME_1988.npy',\n",
       " 'data/LoRes/Arrays/DATE_TIME/DATE_TIME_1989.npy',\n",
       " 'data/LoRes/Arrays/DATE_TIME/DATE_TIME_1990.npy',\n",
       " 'data/LoRes/Arrays/DATE_TIME/DATE_TIME_1991.npy',\n",
       " 'data/LoRes/Arrays/DATE_TIME/DATE_TIME_1992.npy',\n",
       " 'data/LoRes/Arrays/DATE_TIME/DATE_TIME_1993.npy',\n",
       " 'data/LoRes/Arrays/DATE_TIME/DATE_TIME_1994.npy',\n",
       " 'data/LoRes/Arrays/DATE_TIME/DATE_TIME_1995.npy',\n",
       " 'data/LoRes/Arrays/DATE_TIME/DATE_TIME_1996.npy',\n",
       " 'data/LoRes/Arrays/DATE_TIME/DATE_TIME_1997.npy',\n",
       " 'data/LoRes/Arrays/DATE_TIME/DATE_TIME_1998.npy',\n",
       " 'data/LoRes/Arrays/DATE_TIME/DATE_TIME_1999.npy',\n",
       " 'data/LoRes/Arrays/DATE_TIME/DATE_TIME_2000.npy',\n",
       " 'data/LoRes/Arrays/DATE_TIME/DATE_TIME_2001.npy',\n",
       " 'data/LoRes/Arrays/DATE_TIME/DATE_TIME_2002.npy',\n",
       " 'data/LoRes/Arrays/DATE_TIME/DATE_TIME_2003.npy',\n",
       " 'data/LoRes/Arrays/DATE_TIME/DATE_TIME_2004.npy',\n",
       " 'data/LoRes/Arrays/DATE_TIME/DATE_TIME_2005.npy',\n",
       " 'data/LoRes/Arrays/DATE_TIME/DATE_TIME_2006.npy',\n",
       " 'data/LoRes/Arrays/DATE_TIME/DATE_TIME_2007.npy',\n",
       " 'data/LoRes/Arrays/DATE_TIME/DATE_TIME_2008.npy',\n",
       " 'data/LoRes/Arrays/DATE_TIME/DATE_TIME_2009.npy',\n",
       " 'data/LoRes/Arrays/DATE_TIME/DATE_TIME_2010.npy',\n",
       " 'data/LoRes/Arrays/DATE_TIME/DATE_TIME_2011.npy',\n",
       " 'data/LoRes/Arrays/DATE_TIME/DATE_TIME_2012.npy',\n",
       " 'data/LoRes/Arrays/DATE_TIME/DATE_TIME_2013.npy',\n",
       " 'data/LoRes/Arrays/DATE_TIME/DATE_TIME_2014.npy',\n",
       " 'data/LoRes/Arrays/DATE_TIME/DATE_TIME_2015.npy',\n",
       " 'data/LoRes/Arrays/DATE_TIME/DATE_TIME_2016.npy']"
      ]
     },
     "execution_count": 7,
     "metadata": {},
     "output_type": "execute_result"
    }
   ],
   "source": [
    "date_time_datafiles"
   ]
  },
  {
   "cell_type": "code",
   "execution_count": 8,
   "metadata": {},
   "outputs": [],
   "source": [
    "date_time = np.array([np.load(f, mmap_mode = 'r') for f in date_time_datafiles])"
   ]
  },
  {
   "cell_type": "code",
   "execution_count": 9,
   "metadata": {},
   "outputs": [
    {
     "data": {
      "text/plain": [
       "38"
      ]
     },
     "execution_count": 9,
     "metadata": {},
     "output_type": "execute_result"
    }
   ],
   "source": [
    "len(date_time)"
   ]
  },
  {
   "cell_type": "code",
   "execution_count": 10,
   "metadata": {},
   "outputs": [
    {
     "data": {
      "text/plain": [
       "2928"
      ]
     },
     "execution_count": 10,
     "metadata": {},
     "output_type": "execute_result"
    }
   ],
   "source": [
    "len(date_time[1])"
   ]
  },
  {
   "cell_type": "code",
   "execution_count": null,
   "metadata": {},
   "outputs": [],
   "source": [
    "1%4"
   ]
  },
  {
   "cell_type": "code",
   "execution_count": null,
   "metadata": {},
   "outputs": [],
   "source": []
  },
  {
   "cell_type": "code",
   "execution_count": 11,
   "metadata": {},
   "outputs": [],
   "source": [
    "data_index = []\n",
    "for i in range(30):\n",
    "    if (1979+i)%4 == 0:\n",
    "        for j in range(480):\n",
    "            data_index.append({\"uid\":str(uuid.uuid4()), \"date_time\": date_time[i][j], \"year\": 1979+i,\n",
    "                               \"data_fname_lores\": lores_datafiles[i], \"data_fname_hires\": hires_datafiles[i],\n",
    "                               \"data_lores_idx\": j, \"data_hires_idx\": j, \"season_idx\": 0})\n",
    "        for j in range(480,1216):\n",
    "            data_index.append({\"uid\":str(uuid.uuid4()), \"date_time\": date_time[i][j],\"year\": 1979+i,\n",
    "                               \"data_fname_lores\": lores_datafiles[i], \"data_fname_hires\": hires_datafiles[i],\n",
    "                               \"data_lores_idx\": j, \"data_hires_idx\": j, \"season_idx\": 1})\n",
    "        for j in range(1216,1952):\n",
    "            data_index.append({\"uid\":str(uuid.uuid4()), \"date_time\": date_time[i][j],\"year\": 1979+i,\n",
    "                               \"data_fname_lores\": lores_datafiles[i], \"data_fname_hires\": hires_datafiles[i],\n",
    "                               \"data_lores_idx\": j, \"data_hires_idx\": j, \"season_idx\": 2})\n",
    "        for j in range(1952,2680):\n",
    "            data_index.append({\"uid\":str(uuid.uuid4()), \"date_time\": date_time[i][j],\"year\": 1979+i,\n",
    "                               \"data_fname_lores\": lores_datafiles[i], \"data_fname_hires\": hires_datafiles[i],\n",
    "                               \"data_lores_idx\": j, \"data_hires_idx\": j, \"season_idx\": 3})\n",
    "        for j in range(2680,2928):\n",
    "            data_index.append({\"uid\":str(uuid.uuid4()), \"date_time\": date_time[i][j],\"year\": 1979+i,\n",
    "                               \"data_fname_lores\": lores_datafiles[i], \"data_fname_hires\": hires_datafiles[i],\n",
    "                               \"data_lores_idx\": j, \"data_hires_idx\": j, \"season_idx\": 0})\n",
    "    else:\n",
    "        for j in range(472):\n",
    "            data_index.append({\"uid\":str(uuid.uuid4()), \"date_time\": date_time[i][j],\"year\": 1979+i,\n",
    "                               \"data_fname_lores\": lores_datafiles[i], \"data_fname_hires\": hires_datafiles[i],\n",
    "                               \"data_lores_idx\": j, \"data_hires_idx\": j, \"season_idx\": 0})\n",
    "        for j in range(472,1208):\n",
    "            data_index.append({\"uid\":str(uuid.uuid4()), \"date_time\": date_time[i][j],\"year\": 1979+i,\n",
    "                               \"data_fname_lores\": lores_datafiles[i], \"data_fname_hires\": hires_datafiles[i],\n",
    "                               \"data_lores_idx\": j, \"data_hires_idx\": j, \"season_idx\": 1})\n",
    "        for j in range(1208,1944):\n",
    "            data_index.append({\"uid\":str(uuid.uuid4()), \"date_time\": date_time[i][j],\"year\": 1979+i,\n",
    "                               \"data_fname_lores\": lores_datafiles[i], \"data_fname_hires\": hires_datafiles[i],\n",
    "                               \"data_lores_idx\": j, \"data_hires_idx\": j, \"season_idx\": 2})\n",
    "        for j in range(1944,2672):\n",
    "            data_index.append({\"uid\":str(uuid.uuid4()), \"date_time\": date_time[i][j],\"year\": 1979+i,\n",
    "                               \"data_fname_lores\": lores_datafiles[i], \"data_fname_hires\": hires_datafiles[i],\n",
    "                               \"data_lores_idx\": j, \"data_hires_idx\": j, \"season_idx\": 3})\n",
    "        for j in range(2672,2920):\n",
    "            data_index.append({\"uid\":str(uuid.uuid4()), \"date_time\": date_time[i][j],\"year\": 1979+i,\n",
    "                               \"data_fname_lores\": lores_datafiles[i], \"data_fname_hires\": hires_datafiles[i],\n",
    "                               \"data_lores_idx\": j, \"data_hires_idx\": j, \"season_idx\": 0})"
   ]
  },
  {
   "cell_type": "code",
   "execution_count": 12,
   "metadata": {},
   "outputs": [
    {
     "data": {
      "text/plain": [
       "{'uid': 'ece5fca9-21c7-4606-a38a-bc134e39c835',\n",
       " 'date_time': 10197.0,\n",
       " 'year': 1980,\n",
       " 'data_fname_lores': 'data/LoRes/Arrays/FIELD/field_1980.npy',\n",
       " 'data_fname_hires': 'data/HiRes/Arrays/FIELD/field_1980.npy',\n",
       " 'data_lores_idx': 479,\n",
       " 'data_hires_idx': 479,\n",
       " 'season_idx': 0}"
      ]
     },
     "execution_count": 12,
     "metadata": {},
     "output_type": "execute_result"
    }
   ],
   "source": [
    "data_index[3399]"
   ]
  },
  {
   "cell_type": "code",
   "execution_count": 13,
   "metadata": {},
   "outputs": [
    {
     "data": {
      "text/plain": [
       "{'uid': 'ba3a1ba1-8d8c-4329-9ad7-4f3587d2c51b',\n",
       " 'date_time': 10200.0,\n",
       " 'year': 1980,\n",
       " 'data_fname_lores': 'data/LoRes/Arrays/FIELD/field_1980.npy',\n",
       " 'data_fname_hires': 'data/HiRes/Arrays/FIELD/field_1980.npy',\n",
       " 'data_lores_idx': 480,\n",
       " 'data_hires_idx': 480,\n",
       " 'season_idx': 1}"
      ]
     },
     "execution_count": 13,
     "metadata": {},
     "output_type": "execute_result"
    }
   ],
   "source": [
    "data_index[3400]"
   ]
  },
  {
   "cell_type": "code",
   "execution_count": 14,
   "metadata": {},
   "outputs": [
    {
     "data": {
      "text/plain": [
       "{'uid': '655d0c6c-65ce-40cc-a9a1-7b05e6b8809f',\n",
       " 'date_time': 262989.0,\n",
       " 'year': 2008,\n",
       " 'data_fname_lores': 'data/LoRes/Arrays/FIELD/field_2008.npy',\n",
       " 'data_fname_hires': 'data/HiRes/Arrays/FIELD/field_2008.npy',\n",
       " 'data_lores_idx': 2927,\n",
       " 'data_hires_idx': 2927,\n",
       " 'season_idx': 0}"
      ]
     },
     "execution_count": 14,
     "metadata": {},
     "output_type": "execute_result"
    }
   ],
   "source": [
    "data_index[-1]"
   ]
  },
  {
   "cell_type": "code",
   "execution_count": null,
   "metadata": {},
   "outputs": [],
   "source": []
  },
  {
   "cell_type": "code",
   "execution_count": 16,
   "metadata": {},
   "outputs": [],
   "source": [
    "data_index_val = []\n",
    "for i in range(30,37):\n",
    "    if (1979+i)%4 == 0:\n",
    "        for j in range(480):\n",
    "            data_index_val.append({\"uid\":str(uuid.uuid4()), \"date_time\": date_time[i][j], \"year\": 1979+i,\n",
    "                                   \"data_fname_lores\": lores_datafiles[i], \"data_fname_hires\": hires_datafiles[i],\n",
    "                                   \"data_lores_idx\": j, \"data_hires_idx\": j, \"season_idx\": 0})\n",
    "        for j in range(480,1216):\n",
    "            data_index_val.append({\"uid\":str(uuid.uuid4()), \"date_time\": date_time[i][j],\"year\": 1979+i,\n",
    "                                   \"data_fname_lores\": lores_datafiles[i], \"data_fname_hires\": hires_datafiles[i],\n",
    "                                   \"data_lores_idx\": j, \"data_hires_idx\": j, \"season_idx\": 1})\n",
    "        for j in range(1216,1952):\n",
    "            data_index_val.append({\"uid\":str(uuid.uuid4()), \"date_time\": date_time[i][j],\"year\": 1979+i,\n",
    "                                   \"data_fname_lores\": lores_datafiles[i], \"data_fname_hires\": hires_datafiles[i],\n",
    "                                   \"data_lores_idx\": j, \"data_hires_idx\": j, \"season_idx\": 2})\n",
    "        for j in range(1952,2680):\n",
    "            data_index_val.append({\"uid\":str(uuid.uuid4()), \"date_time\": date_time[i][j],\"year\": 1979+i,\n",
    "                                   \"data_fname_lores\": lores_datafiles[i], \"data_fname_hires\": hires_datafiles[i],\n",
    "                                   \"data_lores_idx\": j, \"data_hires_idx\": j, \"season_idx\": 3})\n",
    "        for j in range(2680,2928):\n",
    "            data_index_val.append({\"uid\":str(uuid.uuid4()), \"date_time\": date_time[i][j],\"year\": 1979+i,\n",
    "                                   \"data_fname_lores\": lores_datafiles[i], \"data_fname_hires\": hires_datafiles[i],\n",
    "                                   \"data_lores_idx\": j, \"data_hires_idx\": j, \"season_idx\": 0})\n",
    "    else:\n",
    "        for j in range(472):\n",
    "            data_index_val.append({\"uid\":str(uuid.uuid4()), \"date_time\": date_time[i][j],\"year\": 1979+i,\n",
    "                                   \"data_fname_lores\": lores_datafiles[i], \"data_fname_hires\": hires_datafiles[i],\n",
    "                                   \"data_lores_idx\": j, \"data_hires_idx\": j, \"season_idx\": 0})\n",
    "        for j in range(472,1208):\n",
    "            data_index_val.append({\"uid\":str(uuid.uuid4()), \"date_time\": date_time[i][j],\"year\": 1979+i,\n",
    "                                   \"data_fname_lores\": lores_datafiles[i], \"data_fname_hires\": hires_datafiles[i],\n",
    "                                   \"data_lores_idx\": j, \"data_hires_idx\": j, \"season_idx\": 1})\n",
    "        for j in range(1208,1944):\n",
    "            data_index_val.append({\"uid\":str(uuid.uuid4()), \"date_time\": date_time[i][j],\"year\": 1979+i,\n",
    "                                   \"data_fname_lores\": lores_datafiles[i], \"data_fname_hires\": hires_datafiles[i],\n",
    "                                   \"data_lores_idx\": j, \"data_hires_idx\": j, \"season_idx\": 2})\n",
    "        for j in range(1944,2672):\n",
    "            data_index_val.append({\"uid\":str(uuid.uuid4()), \"date_time\": date_time[i][j],\"year\": 1979+i,\n",
    "                                   \"data_fname_lores\": lores_datafiles[i], \"data_fname_hires\": hires_datafiles[i],\n",
    "                                   \"data_lores_idx\": j, \"data_hires_idx\": j, \"season_idx\": 3})\n",
    "        for j in range(2672,2920):\n",
    "            data_index_val.append({\"uid\":str(uuid.uuid4()), \"date_time\": date_time[i][j],\"year\": 1979+i,\n",
    "                                   \"data_fname_lores\": lores_datafiles[i], \"data_fname_hires\": hires_datafiles[i],\n",
    "                                   \"data_lores_idx\": j, \"data_hires_idx\": j, \"season_idx\": 0})"
   ]
  },
  {
   "cell_type": "code",
   "execution_count": 17,
   "metadata": {},
   "outputs": [],
   "source": [
    "i = 37\n",
    "\n",
    "for j in range(480):\n",
    "    data_index_val.append({\"uid\":str(uuid.uuid4()), \"date_time\": date_time[i][j], \"year\": 1979+i,\n",
    "                           \"data_fname_lores\": lores_datafiles[i], \"data_fname_hires\": hires_datafiles[i],\n",
    "                           \"data_lores_idx\": j, \"data_hires_idx\": j, \"season_idx\": 0})\n",
    "for j in range(480,1216):\n",
    "    data_index_val.append({\"uid\":str(uuid.uuid4()), \"date_time\": date_time[i][j],\"year\": 1979+i,\n",
    "                           \"data_fname_lores\": lores_datafiles[i], \"data_fname_hires\": hires_datafiles[i],\n",
    "                           \"data_lores_idx\": j, \"data_hires_idx\": j, \"season_idx\": 1})\n",
    "for j in range(1216,1952):\n",
    "    data_index_val.append({\"uid\":str(uuid.uuid4()), \"date_time\": date_time[i][j],\"year\": 1979+i,\n",
    "                           \"data_fname_lores\": lores_datafiles[i], \"data_fname_hires\": hires_datafiles[i],\n",
    "                           \"data_lores_idx\": j, \"data_hires_idx\": j, \"season_idx\": 2})\n",
    "for j in range(1952,2680):\n",
    "    data_index_val.append({\"uid\":str(uuid.uuid4()), \"date_time\": date_time[i][j],\"year\": 1979+i,\n",
    "                           \"data_fname_lores\": lores_datafiles[i], \"data_fname_hires\": hires_datafiles[i],\n",
    "                           \"data_lores_idx\": j, \"data_hires_idx\": j, \"season_idx\": 3})\n",
    "for j in range(2680,2927):\n",
    "    data_index_val.append({\"uid\":str(uuid.uuid4()), \"date_time\": date_time[i][j],\"year\": 1979+i,\n",
    "                           \"data_fname_lores\": lores_datafiles[i], \"data_fname_hires\": hires_datafiles[i],\n",
    "                           \"data_lores_idx\": j, \"data_hires_idx\": j, \"season_idx\": 0})"
   ]
  },
  {
   "cell_type": "code",
   "execution_count": 18,
   "metadata": {},
   "outputs": [
    {
     "data": {
      "text/plain": [
       "{'uid': 'daa349f8-af73-412f-9e79-b3708ec65664',\n",
       " 'date_time': 264405.0,\n",
       " 'year': 2009,\n",
       " 'data_fname_lores': 'data/LoRes/Arrays/FIELD/field_2009.npy',\n",
       " 'data_fname_hires': 'data/HiRes/Arrays/FIELD/field_2009.npy',\n",
       " 'data_lores_idx': 471,\n",
       " 'data_hires_idx': 471,\n",
       " 'season_idx': 0}"
      ]
     },
     "execution_count": 18,
     "metadata": {},
     "output_type": "execute_result"
    }
   ],
   "source": [
    "data_index_val[471]"
   ]
  },
  {
   "cell_type": "code",
   "execution_count": 19,
   "metadata": {},
   "outputs": [
    {
     "data": {
      "text/plain": [
       "{'uid': '332cd63e-471f-4996-b3f2-dbfa63712221',\n",
       " 'date_time': 264408.0,\n",
       " 'year': 2009,\n",
       " 'data_fname_lores': 'data/LoRes/Arrays/FIELD/field_2009.npy',\n",
       " 'data_fname_hires': 'data/HiRes/Arrays/FIELD/field_2009.npy',\n",
       " 'data_lores_idx': 472,\n",
       " 'data_hires_idx': 472,\n",
       " 'season_idx': 1}"
      ]
     },
     "execution_count": 19,
     "metadata": {},
     "output_type": "execute_result"
    }
   ],
   "source": [
    "data_index_val[472]"
   ]
  },
  {
   "cell_type": "code",
   "execution_count": 20,
   "metadata": {},
   "outputs": [
    {
     "data": {
      "text/plain": [
       "{'uid': '972ef96c-260d-4a4a-b94a-6589b85ffc44',\n",
       " 'date_time': 333114.0,\n",
       " 'year': 2016,\n",
       " 'data_fname_lores': 'data/LoRes/Arrays/FIELD/field_2016.npy',\n",
       " 'data_fname_hires': 'data/HiRes/Arrays/FIELD/field_2016.npy',\n",
       " 'data_lores_idx': 2926,\n",
       " 'data_hires_idx': 2926,\n",
       " 'season_idx': 0}"
      ]
     },
     "execution_count": 20,
     "metadata": {},
     "output_type": "execute_result"
    }
   ],
   "source": [
    "data_index_val[-1]"
   ]
  },
  {
   "cell_type": "code",
   "execution_count": 21,
   "metadata": {},
   "outputs": [],
   "source": [
    "data_index_fname = 'data/data_index.p'\n",
    "data_index_val_fname = 'data/data_index_val.p'"
   ]
  },
  {
   "cell_type": "code",
   "execution_count": 22,
   "metadata": {},
   "outputs": [],
   "source": [
    "with open(data_index_fname, 'wb') as f:\n",
    "    pickle.dump(data_index, f)"
   ]
  },
  {
   "cell_type": "code",
   "execution_count": 23,
   "metadata": {},
   "outputs": [],
   "source": [
    "with open(data_index_val_fname, 'wb') as f:\n",
    "    pickle.dump(data_index_val, f)"
   ]
  },
  {
   "cell_type": "code",
   "execution_count": null,
   "metadata": {},
   "outputs": [],
   "source": []
  }
 ],
 "metadata": {
  "kernelspec": {
   "display_name": "Python 3",
   "language": "python",
   "name": "python3"
  },
  "language_info": {
   "codemirror_mode": {
    "name": "ipython",
    "version": 3
   },
   "file_extension": ".py",
   "mimetype": "text/x-python",
   "name": "python",
   "nbconvert_exporter": "python",
   "pygments_lexer": "ipython3",
   "version": "3.6.10"
  }
 },
 "nbformat": 4,
 "nbformat_minor": 2
}
