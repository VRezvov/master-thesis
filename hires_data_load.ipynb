{
 "cells": [
  {
   "cell_type": "code",
   "execution_count": null,
   "metadata": {},
   "outputs": [],
   "source": [
    "from os import listdir\n",
    "from os.path import join"
   ]
  },
  {
   "cell_type": "code",
   "execution_count": 66,
   "metadata": {},
   "outputs": [],
   "source": [
    "from matplotlib import pyplot as plt"
   ]
  },
  {
   "cell_type": "code",
   "execution_count": null,
   "metadata": {},
   "outputs": [],
   "source": [
    "from netCDF4 import Dataset"
   ]
  },
  {
   "cell_type": "code",
   "execution_count": 1,
   "metadata": {},
   "outputs": [],
   "source": [
    "import numpy as np"
   ]
  },
  {
   "cell_type": "code",
   "execution_count": null,
   "metadata": {},
   "outputs": [],
   "source": [
    "from tqdm import tqdm"
   ]
  },
  {
   "cell_type": "code",
   "execution_count": null,
   "metadata": {},
   "outputs": [],
   "source": [
    "u_dir = 'data/HiRes/U10/'\n",
    "v_dir = 'data/HiRes/V10/'\n",
    "slp_dir = 'data/HiRes/SLP/'"
   ]
  },
  {
   "cell_type": "code",
   "execution_count": null,
   "metadata": {},
   "outputs": [],
   "source": [
    "def is_image_file(filename):\n",
    "    return any(filename.endswith(extension) for extension in ['.nc'])"
   ]
  },
  {
   "cell_type": "code",
   "execution_count": null,
   "metadata": {},
   "outputs": [],
   "source": [
    "def find_files(dataset_dir):\n",
    "    image_filenames = [join(dataset_dir, x) for x in listdir(dataset_dir) if is_image_file(x)]\n",
    "    return image_filenames"
   ]
  },
  {
   "cell_type": "code",
   "execution_count": null,
   "metadata": {},
   "outputs": [],
   "source": [
    "u_datafiles = [f for f in find_files(u_dir)]\n",
    "u_datafiles.sort()\n",
    "v_datafiles = [f for f in find_files(v_dir)]\n",
    "v_datafiles.sort()\n",
    "slp_datafiles = [f for f in find_files(slp_dir)]\n",
    "slp_datafiles.sort()"
   ]
  },
  {
   "cell_type": "code",
   "execution_count": null,
   "metadata": {},
   "outputs": [],
   "source": [
    "for i in range(38):\n",
    "    u_fname = u_datafiles[i]\n",
    "    v_fname = v_datafiles[i]\n",
    "    slp_fname = slp_datafiles[i]\n",
    "    u_data = Dataset(u_fname, 'r').variables['U10'][:]\n",
    "    v_data = Dataset(v_fname, 'r').variables['V10'][:]\n",
    "    slp_data = Dataset(slp_fname, 'r').variables['slp'][:]\n",
    "    np.save('data/HiRes/Arrays/U10/U10_' + str(1979+i), u_data.data)\n",
    "    np.save('data/HiRes/Arrays/V10/V10_' + str(1979+i), v_data.data)\n",
    "    np.save('data/HiRes/Arrays/SLP/SLP_' + str(1979+i), slp_data.data)\n",
    "    field = np.stack((u_data.data,v_data.data,slp_data.data),axis=1)\n",
    "    np.save('data/HiRes/Arrays/FIELD/field_' + str(1979+i), field)\n",
    "    wind = np.sqrt(np.square(u_data.data)+np.square(v_data.data))\n",
    "    np.save('data/HiRes/Arrays/WindModule/WindModule_' + str(1979+i), wind)\n",
    "    print(1979+i)"
   ]
  },
  {
   "cell_type": "code",
   "execution_count": 2,
   "metadata": {},
   "outputs": [],
   "source": [
    "wind = np.load('data/HiRes/Arrays/WindModule/WindModule_1979.npy')\n",
    "winter = wind[0:472]\n",
    "spring = wind[472:1208]\n",
    "summer = wind[1208:1944]\n",
    "autumn = wind[1944:2672]\n",
    "winter = np.concatenate((winter, wind[2672:2920]),axis=0)"
   ]
  },
  {
   "cell_type": "code",
   "execution_count": 3,
   "metadata": {},
   "outputs": [],
   "source": [
    "wind = np.load('data/HiRes/Arrays/WindModule/WindModule_1980.npy')\n",
    "winter = np.concatenate((winter, wind[0:480]),axis=0)\n",
    "spring = np.concatenate((spring, wind[480:1216]),axis=0)\n",
    "summer = np.concatenate((summer, wind[1216:1952]),axis=0)\n",
    "autumn = np.concatenate((autumn, wind[1952:2680]),axis=0)\n",
    "winter = np.concatenate((winter, wind[2680:2928]),axis=0)"
   ]
  },
  {
   "cell_type": "code",
   "execution_count": 4,
   "metadata": {},
   "outputs": [],
   "source": [
    "wind = np.load('data/HiRes/Arrays/WindModule/WindModule_1981.npy')\n",
    "winter = np.concatenate((winter, wind[0:472]),axis=0)\n",
    "spring = np.concatenate((spring, wind[472:1208]),axis=0)\n",
    "summer = np.concatenate((summer, wind[1208:1944]),axis=0)\n",
    "autumn = np.concatenate((autumn, wind[1944:2672]),axis=0)\n",
    "winter = np.concatenate((winter, wind[2672:2920]),axis=0)"
   ]
  },
  {
   "cell_type": "code",
   "execution_count": 5,
   "metadata": {},
   "outputs": [],
   "source": [
    "wind = np.load('data/HiRes/Arrays/WindModule/WindModule_1982.npy')\n",
    "winter = np.concatenate((winter, wind[0:472]),axis=0)\n",
    "spring = np.concatenate((spring, wind[472:1208]),axis=0)\n",
    "summer = np.concatenate((summer, wind[1208:1944]),axis=0)\n",
    "autumn = np.concatenate((autumn, wind[1944:2672]),axis=0)\n",
    "winter = np.concatenate((winter, wind[2672:2920]),axis=0)"
   ]
  },
  {
   "cell_type": "code",
   "execution_count": 6,
   "metadata": {},
   "outputs": [],
   "source": [
    "wind = np.load('data/HiRes/Arrays/WindModule/WindModule_1983.npy')\n",
    "winter = np.concatenate((winter, wind[0:472]),axis=0)\n",
    "spring = np.concatenate((spring, wind[472:1208]),axis=0)\n",
    "summer = np.concatenate((summer, wind[1208:1944]),axis=0)\n",
    "autumn = np.concatenate((autumn, wind[1944:2672]),axis=0)\n",
    "winter = np.concatenate((winter, wind[2672:2920]),axis=0)"
   ]
  },
  {
   "cell_type": "code",
   "execution_count": 7,
   "metadata": {},
   "outputs": [],
   "source": [
    "wind = np.load('data/HiRes/Arrays/WindModule/WindModule_1984.npy')\n",
    "winter = np.concatenate((winter, wind[0:480]),axis=0)\n",
    "spring = np.concatenate((spring, wind[480:1216]),axis=0)\n",
    "summer = np.concatenate((summer, wind[1216:1952]),axis=0)\n",
    "autumn = np.concatenate((autumn, wind[1952:2680]),axis=0)\n",
    "winter = np.concatenate((winter, wind[2680:2928]),axis=0)"
   ]
  },
  {
   "cell_type": "code",
   "execution_count": 8,
   "metadata": {},
   "outputs": [],
   "source": [
    "wind = np.load('data/HiRes/Arrays/WindModule/WindModule_1985.npy')\n",
    "winter = np.concatenate((winter, wind[0:472]),axis=0)\n",
    "spring = np.concatenate((spring, wind[472:1208]),axis=0)\n",
    "summer = np.concatenate((summer, wind[1208:1944]),axis=0)\n",
    "autumn = np.concatenate((autumn, wind[1944:2672]),axis=0)\n",
    "winter = np.concatenate((winter, wind[2672:2920]),axis=0)"
   ]
  },
  {
   "cell_type": "code",
   "execution_count": 9,
   "metadata": {},
   "outputs": [],
   "source": [
    "wind = np.load('data/HiRes/Arrays/WindModule/WindModule_1986.npy')\n",
    "winter = np.concatenate((winter, wind[0:472]),axis=0)\n",
    "spring = np.concatenate((spring, wind[472:1208]),axis=0)\n",
    "summer = np.concatenate((summer, wind[1208:1944]),axis=0)\n",
    "autumn = np.concatenate((autumn, wind[1944:2672]),axis=0)\n",
    "winter = np.concatenate((winter, wind[2672:2920]),axis=0)"
   ]
  },
  {
   "cell_type": "code",
   "execution_count": 10,
   "metadata": {},
   "outputs": [],
   "source": [
    "wind = np.load('data/HiRes/Arrays/WindModule/WindModule_1987.npy')\n",
    "winter = np.concatenate((winter, wind[0:472]),axis=0)\n",
    "spring = np.concatenate((spring, wind[472:1208]),axis=0)\n",
    "summer = np.concatenate((summer, wind[1208:1944]),axis=0)\n",
    "autumn = np.concatenate((autumn, wind[1944:2672]),axis=0)\n",
    "winter = np.concatenate((winter, wind[2672:2920]),axis=0)"
   ]
  },
  {
   "cell_type": "code",
   "execution_count": 11,
   "metadata": {},
   "outputs": [],
   "source": [
    "wind = np.load('data/HiRes/Arrays/WindModule/WindModule_1988.npy')\n",
    "winter = np.concatenate((winter, wind[0:480]),axis=0)\n",
    "spring = np.concatenate((spring, wind[480:1216]),axis=0)\n",
    "summer = np.concatenate((summer, wind[1216:1952]),axis=0)\n",
    "autumn = np.concatenate((autumn, wind[1952:2680]),axis=0)\n",
    "winter = np.concatenate((winter, wind[2680:2928]),axis=0)"
   ]
  },
  {
   "cell_type": "code",
   "execution_count": 12,
   "metadata": {},
   "outputs": [],
   "source": [
    "wind = np.load('data/HiRes/Arrays/WindModule/WindModule_1989.npy')\n",
    "winter = np.concatenate((winter, wind[0:472]),axis=0)\n",
    "spring = np.concatenate((spring, wind[472:1208]),axis=0)\n",
    "summer = np.concatenate((summer, wind[1208:1944]),axis=0)\n",
    "autumn = np.concatenate((autumn, wind[1944:2672]),axis=0)\n",
    "winter = np.concatenate((winter, wind[2672:2920]),axis=0)"
   ]
  },
  {
   "cell_type": "code",
   "execution_count": 13,
   "metadata": {},
   "outputs": [],
   "source": [
    "wind = np.load('data/HiRes/Arrays/WindModule/WindModule_1990.npy')\n",
    "winter = np.concatenate((winter, wind[0:472]),axis=0)\n",
    "spring = np.concatenate((spring, wind[472:1208]),axis=0)\n",
    "summer = np.concatenate((summer, wind[1208:1944]),axis=0)\n",
    "autumn = np.concatenate((autumn, wind[1944:2672]),axis=0)\n",
    "winter = np.concatenate((winter, wind[2672:2920]),axis=0)"
   ]
  },
  {
   "cell_type": "code",
   "execution_count": 14,
   "metadata": {},
   "outputs": [],
   "source": [
    "wind = np.load('data/HiRes/Arrays/WindModule/WindModule_1991.npy')\n",
    "winter = np.concatenate((winter, wind[0:472]),axis=0)\n",
    "spring = np.concatenate((spring, wind[472:1208]),axis=0)\n",
    "summer = np.concatenate((summer, wind[1208:1944]),axis=0)\n",
    "autumn = np.concatenate((autumn, wind[1944:2672]),axis=0)\n",
    "winter = np.concatenate((winter, wind[2672:2920]),axis=0)"
   ]
  },
  {
   "cell_type": "code",
   "execution_count": 15,
   "metadata": {},
   "outputs": [],
   "source": [
    "wind = np.load('data/HiRes/Arrays/WindModule/WindModule_1992.npy')\n",
    "winter = np.concatenate((winter, wind[0:480]),axis=0)\n",
    "spring = np.concatenate((spring, wind[480:1216]),axis=0)\n",
    "summer = np.concatenate((summer, wind[1216:1952]),axis=0)\n",
    "autumn = np.concatenate((autumn, wind[1952:2680]),axis=0)\n",
    "winter = np.concatenate((winter, wind[2680:2928]),axis=0)"
   ]
  },
  {
   "cell_type": "code",
   "execution_count": 16,
   "metadata": {},
   "outputs": [],
   "source": [
    "wind = np.load('data/HiRes/Arrays/WindModule/WindModule_1993.npy')\n",
    "winter = np.concatenate((winter, wind[0:472]),axis=0)\n",
    "spring = np.concatenate((spring, wind[472:1208]),axis=0)\n",
    "summer = np.concatenate((summer, wind[1208:1944]),axis=0)\n",
    "autumn = np.concatenate((autumn, wind[1944:2672]),axis=0)\n",
    "winter = np.concatenate((winter, wind[2672:2920]),axis=0)"
   ]
  },
  {
   "cell_type": "code",
   "execution_count": 17,
   "metadata": {},
   "outputs": [],
   "source": [
    "wind = np.load('data/HiRes/Arrays/WindModule/WindModule_1994.npy')\n",
    "winter = np.concatenate((winter, wind[0:472]),axis=0)\n",
    "spring = np.concatenate((spring, wind[472:1208]),axis=0)\n",
    "summer = np.concatenate((summer, wind[1208:1944]),axis=0)\n",
    "autumn = np.concatenate((autumn, wind[1944:2672]),axis=0)\n",
    "winter = np.concatenate((winter, wind[2672:2920]),axis=0)"
   ]
  },
  {
   "cell_type": "code",
   "execution_count": 18,
   "metadata": {},
   "outputs": [],
   "source": [
    "wind = np.load('data/HiRes/Arrays/WindModule/WindModule_1995.npy')\n",
    "winter = np.concatenate((winter, wind[0:472]),axis=0)\n",
    "spring = np.concatenate((spring, wind[472:1208]),axis=0)\n",
    "summer = np.concatenate((summer, wind[1208:1944]),axis=0)\n",
    "autumn = np.concatenate((autumn, wind[1944:2672]),axis=0)\n",
    "winter = np.concatenate((winter, wind[2672:2920]),axis=0)"
   ]
  },
  {
   "cell_type": "code",
   "execution_count": 19,
   "metadata": {},
   "outputs": [],
   "source": [
    "wind = np.load('data/HiRes/Arrays/WindModule/WindModule_1996.npy')\n",
    "winter = np.concatenate((winter, wind[0:480]),axis=0)\n",
    "spring = np.concatenate((spring, wind[480:1216]),axis=0)\n",
    "summer = np.concatenate((summer, wind[1216:1952]),axis=0)\n",
    "autumn = np.concatenate((autumn, wind[1952:2680]),axis=0)\n",
    "winter = np.concatenate((winter, wind[2680:2928]),axis=0)"
   ]
  },
  {
   "cell_type": "code",
   "execution_count": 20,
   "metadata": {},
   "outputs": [],
   "source": [
    "wind = np.load('data/HiRes/Arrays/WindModule/WindModule_1997.npy')\n",
    "winter = np.concatenate((winter, wind[0:472]),axis=0)\n",
    "spring = np.concatenate((spring, wind[472:1208]),axis=0)\n",
    "summer = np.concatenate((summer, wind[1208:1944]),axis=0)\n",
    "autumn = np.concatenate((autumn, wind[1944:2672]),axis=0)\n",
    "winter = np.concatenate((winter, wind[2672:2920]),axis=0)"
   ]
  },
  {
   "cell_type": "code",
   "execution_count": 21,
   "metadata": {},
   "outputs": [],
   "source": [
    "wind = np.load('data/HiRes/Arrays/WindModule/WindModule_1998.npy')\n",
    "winter = np.concatenate((winter, wind[0:472]),axis=0)\n",
    "spring = np.concatenate((spring, wind[472:1208]),axis=0)\n",
    "summer = np.concatenate((summer, wind[1208:1944]),axis=0)\n",
    "autumn = np.concatenate((autumn, wind[1944:2672]),axis=0)\n",
    "winter = np.concatenate((winter, wind[2672:2920]),axis=0)"
   ]
  },
  {
   "cell_type": "code",
   "execution_count": 22,
   "metadata": {},
   "outputs": [],
   "source": [
    "wind = np.load('data/HiRes/Arrays/WindModule/WindModule_1999.npy')\n",
    "winter = np.concatenate((winter, wind[0:472]),axis=0)\n",
    "spring = np.concatenate((spring, wind[472:1208]),axis=0)\n",
    "summer = np.concatenate((summer, wind[1208:1944]),axis=0)\n",
    "autumn = np.concatenate((autumn, wind[1944:2672]),axis=0)\n",
    "winter = np.concatenate((winter, wind[2672:2920]),axis=0)"
   ]
  },
  {
   "cell_type": "code",
   "execution_count": 23,
   "metadata": {},
   "outputs": [],
   "source": [
    "wind = np.load('data/HiRes/Arrays/WindModule/WindModule_2000.npy')\n",
    "winter = np.concatenate((winter, wind[0:480]),axis=0)\n",
    "spring = np.concatenate((spring, wind[480:1216]),axis=0)\n",
    "summer = np.concatenate((summer, wind[1216:1952]),axis=0)\n",
    "autumn = np.concatenate((autumn, wind[1952:2680]),axis=0)\n",
    "winter = np.concatenate((winter, wind[2680:2928]),axis=0)"
   ]
  },
  {
   "cell_type": "code",
   "execution_count": 24,
   "metadata": {},
   "outputs": [],
   "source": [
    "wind = np.load('data/HiRes/Arrays/WindModule/WindModule_2001.npy')\n",
    "winter = np.concatenate((winter, wind[0:472]),axis=0)\n",
    "spring = np.concatenate((spring, wind[472:1208]),axis=0)\n",
    "summer = np.concatenate((summer, wind[1208:1944]),axis=0)\n",
    "autumn = np.concatenate((autumn, wind[1944:2672]),axis=0)\n",
    "winter = np.concatenate((winter, wind[2672:2920]),axis=0)"
   ]
  },
  {
   "cell_type": "code",
   "execution_count": 25,
   "metadata": {},
   "outputs": [],
   "source": [
    "wind = np.load('data/HiRes/Arrays/WindModule/WindModule_2002.npy')\n",
    "winter = np.concatenate((winter, wind[0:472]),axis=0)\n",
    "spring = np.concatenate((spring, wind[472:1208]),axis=0)\n",
    "summer = np.concatenate((summer, wind[1208:1944]),axis=0)\n",
    "autumn = np.concatenate((autumn, wind[1944:2672]),axis=0)\n",
    "winter = np.concatenate((winter, wind[2672:2920]),axis=0)"
   ]
  },
  {
   "cell_type": "code",
   "execution_count": 26,
   "metadata": {},
   "outputs": [],
   "source": [
    "wind = np.load('data/HiRes/Arrays/WindModule/WindModule_2003.npy')\n",
    "winter = np.concatenate((winter, wind[0:472]),axis=0)\n",
    "spring = np.concatenate((spring, wind[472:1208]),axis=0)\n",
    "summer = np.concatenate((summer, wind[1208:1944]),axis=0)\n",
    "autumn = np.concatenate((autumn, wind[1944:2672]),axis=0)\n",
    "winter = np.concatenate((winter, wind[2672:2920]),axis=0)"
   ]
  },
  {
   "cell_type": "code",
   "execution_count": 27,
   "metadata": {},
   "outputs": [],
   "source": [
    "wind = np.load('data/HiRes/Arrays/WindModule/WindModule_2004.npy')\n",
    "winter = np.concatenate((winter, wind[0:480]),axis=0)\n",
    "spring = np.concatenate((spring, wind[480:1216]),axis=0)\n",
    "summer = np.concatenate((summer, wind[1216:1952]),axis=0)\n",
    "autumn = np.concatenate((autumn, wind[1952:2680]),axis=0)\n",
    "winter = np.concatenate((winter, wind[2680:2928]),axis=0)"
   ]
  },
  {
   "cell_type": "code",
   "execution_count": 28,
   "metadata": {},
   "outputs": [],
   "source": [
    "wind = np.load('data/HiRes/Arrays/WindModule/WindModule_2005.npy')\n",
    "winter = np.concatenate((winter, wind[0:472]),axis=0)\n",
    "spring = np.concatenate((spring, wind[472:1208]),axis=0)\n",
    "summer = np.concatenate((summer, wind[1208:1944]),axis=0)\n",
    "autumn = np.concatenate((autumn, wind[1944:2672]),axis=0)\n",
    "winter = np.concatenate((winter, wind[2672:2920]),axis=0)"
   ]
  },
  {
   "cell_type": "code",
   "execution_count": 29,
   "metadata": {},
   "outputs": [],
   "source": [
    "wind = np.load('data/HiRes/Arrays/WindModule/WindModule_2006.npy')\n",
    "winter = np.concatenate((winter, wind[0:472]),axis=0)\n",
    "spring = np.concatenate((spring, wind[472:1208]),axis=0)\n",
    "summer = np.concatenate((summer, wind[1208:1944]),axis=0)\n",
    "autumn = np.concatenate((autumn, wind[1944:2672]),axis=0)\n",
    "winter = np.concatenate((winter, wind[2672:2920]),axis=0)"
   ]
  },
  {
   "cell_type": "code",
   "execution_count": 30,
   "metadata": {},
   "outputs": [],
   "source": [
    "wind = np.load('data/HiRes/Arrays/WindModule/WindModule_2007.npy')\n",
    "winter = np.concatenate((winter, wind[0:472]),axis=0)\n",
    "spring = np.concatenate((spring, wind[472:1208]),axis=0)\n",
    "summer = np.concatenate((summer, wind[1208:1944]),axis=0)\n",
    "autumn = np.concatenate((autumn, wind[1944:2672]),axis=0)\n",
    "winter = np.concatenate((winter, wind[2672:2920]),axis=0)"
   ]
  },
  {
   "cell_type": "code",
   "execution_count": 31,
   "metadata": {},
   "outputs": [],
   "source": [
    "wind = np.load('data/HiRes/Arrays/WindModule/WindModule_2008.npy')\n",
    "winter = np.concatenate((winter, wind[0:480]),axis=0)\n",
    "spring = np.concatenate((spring, wind[480:1216]),axis=0)\n",
    "summer = np.concatenate((summer, wind[1216:1952]),axis=0)\n",
    "autumn = np.concatenate((autumn, wind[1952:2680]),axis=0)\n",
    "winter = np.concatenate((winter, wind[2680:2928]),axis=0)"
   ]
  },
  {
   "cell_type": "code",
   "execution_count": 32,
   "metadata": {},
   "outputs": [],
   "source": [
    "wind = np.load('data/HiRes/Arrays/WindModule/WindModule_2009.npy')\n",
    "winter = np.concatenate((winter, wind[0:472]),axis=0)\n",
    "spring = np.concatenate((spring, wind[472:1208]),axis=0)\n",
    "summer = np.concatenate((summer, wind[1208:1944]),axis=0)\n",
    "autumn = np.concatenate((autumn, wind[1944:2672]),axis=0)\n",
    "winter = np.concatenate((winter, wind[2672:2920]),axis=0)"
   ]
  },
  {
   "cell_type": "code",
   "execution_count": 33,
   "metadata": {},
   "outputs": [],
   "source": [
    "wind = np.load('data/HiRes/Arrays/WindModule/WindModule_2010.npy')\n",
    "winter = np.concatenate((winter, wind[0:472]),axis=0)\n",
    "spring = np.concatenate((spring, wind[472:1208]),axis=0)\n",
    "summer = np.concatenate((summer, wind[1208:1944]),axis=0)\n",
    "autumn = np.concatenate((autumn, wind[1944:2672]),axis=0)\n",
    "winter = np.concatenate((winter, wind[2672:2920]),axis=0)"
   ]
  },
  {
   "cell_type": "code",
   "execution_count": 34,
   "metadata": {},
   "outputs": [],
   "source": [
    "wind = np.load('data/HiRes/Arrays/WindModule/WindModule_2011.npy')\n",
    "winter = np.concatenate((winter, wind[0:472]),axis=0)\n",
    "spring = np.concatenate((spring, wind[472:1208]),axis=0)\n",
    "summer = np.concatenate((summer, wind[1208:1944]),axis=0)\n",
    "autumn = np.concatenate((autumn, wind[1944:2672]),axis=0)\n",
    "winter = np.concatenate((winter, wind[2672:2920]),axis=0)"
   ]
  },
  {
   "cell_type": "code",
   "execution_count": 35,
   "metadata": {},
   "outputs": [],
   "source": [
    "wind = np.load('data/HiRes/Arrays/WindModule/WindModule_2012.npy')\n",
    "winter = np.concatenate((winter, wind[0:480]),axis=0)\n",
    "spring = np.concatenate((spring, wind[480:1216]),axis=0)\n",
    "summer = np.concatenate((summer, wind[1216:1952]),axis=0)\n",
    "autumn = np.concatenate((autumn, wind[1952:2680]),axis=0)\n",
    "winter = np.concatenate((winter, wind[2680:2928]),axis=0)"
   ]
  },
  {
   "cell_type": "code",
   "execution_count": 36,
   "metadata": {},
   "outputs": [],
   "source": [
    "wind = np.load('data/HiRes/Arrays/WindModule/WindModule_2013.npy')\n",
    "winter = np.concatenate((winter, wind[0:472]),axis=0)\n",
    "spring = np.concatenate((spring, wind[472:1208]),axis=0)\n",
    "summer = np.concatenate((summer, wind[1208:1944]),axis=0)\n",
    "autumn = np.concatenate((autumn, wind[1944:2672]),axis=0)\n",
    "winter = np.concatenate((winter, wind[2672:2920]),axis=0)"
   ]
  },
  {
   "cell_type": "code",
   "execution_count": 37,
   "metadata": {},
   "outputs": [],
   "source": [
    "wind = np.load('data/HiRes/Arrays/WindModule/WindModule_2014.npy')\n",
    "winter = np.concatenate((winter, wind[0:472]),axis=0)\n",
    "spring = np.concatenate((spring, wind[472:1208]),axis=0)\n",
    "summer = np.concatenate((summer, wind[1208:1944]),axis=0)\n",
    "autumn = np.concatenate((autumn, wind[1944:2672]),axis=0)\n",
    "winter = np.concatenate((winter, wind[2672:2920]),axis=0)"
   ]
  },
  {
   "cell_type": "code",
   "execution_count": 38,
   "metadata": {},
   "outputs": [],
   "source": [
    "wind = np.load('data/HiRes/Arrays/WindModule/WindModule_2015.npy')\n",
    "winter = np.concatenate((winter, wind[0:472]),axis=0)\n",
    "spring = np.concatenate((spring, wind[472:1208]),axis=0)\n",
    "summer = np.concatenate((summer, wind[1208:1944]),axis=0)\n",
    "autumn = np.concatenate((autumn, wind[1944:2672]),axis=0)\n",
    "winter = np.concatenate((winter, wind[2672:2920]),axis=0)"
   ]
  },
  {
   "cell_type": "code",
   "execution_count": 39,
   "metadata": {},
   "outputs": [],
   "source": [
    "wind = np.load('data/HiRes/Arrays/WindModule/WindModule_2016.npy')\n",
    "winter = np.concatenate((winter, wind[0:480]),axis=0)\n",
    "spring = np.concatenate((spring, wind[480:1216]),axis=0)\n",
    "summer = np.concatenate((summer, wind[1216:1952]),axis=0)\n",
    "autumn = np.concatenate((autumn, wind[1952:2680]),axis=0)\n",
    "winter = np.concatenate((winter, wind[2680:2928]),axis=0)"
   ]
  },
  {
   "cell_type": "code",
   "execution_count": 40,
   "metadata": {},
   "outputs": [
    {
     "data": {
      "text/plain": [
       "(27439, 550, 550)"
      ]
     },
     "execution_count": 40,
     "metadata": {},
     "output_type": "execute_result"
    }
   ],
   "source": [
    "winter.shape"
   ]
  },
  {
   "cell_type": "code",
   "execution_count": 41,
   "metadata": {},
   "outputs": [
    {
     "data": {
      "text/plain": [
       "(27968, 550, 550)"
      ]
     },
     "execution_count": 41,
     "metadata": {},
     "output_type": "execute_result"
    }
   ],
   "source": [
    "spring.shape"
   ]
  },
  {
   "cell_type": "code",
   "execution_count": 42,
   "metadata": {},
   "outputs": [
    {
     "data": {
      "text/plain": [
       "(27968, 550, 550)"
      ]
     },
     "execution_count": 42,
     "metadata": {},
     "output_type": "execute_result"
    }
   ],
   "source": [
    "summer.shape"
   ]
  },
  {
   "cell_type": "code",
   "execution_count": 43,
   "metadata": {},
   "outputs": [
    {
     "data": {
      "text/plain": [
       "(27664, 550, 550)"
      ]
     },
     "execution_count": 43,
     "metadata": {},
     "output_type": "execute_result"
    }
   ],
   "source": [
    "autumn.shape"
   ]
  },
  {
   "cell_type": "code",
   "execution_count": 44,
   "metadata": {},
   "outputs": [],
   "source": [
    "winter_95 = np.percentile(winter, q = 95, axis = 0)\n",
    "winter_90 = np.percentile(winter, q = 90, axis = 0)\n",
    "winter_85 = np.percentile(winter, q = 85, axis = 0)\n",
    "winter_80 = np.percentile(winter, q = 80, axis = 0)\n",
    "winter_97 = np.percentile(winter, q = 97, axis = 0)\n",
    "winter_99 = np.percentile(winter, q = 99, axis = 0)"
   ]
  },
  {
   "cell_type": "code",
   "execution_count": 45,
   "metadata": {},
   "outputs": [],
   "source": [
    "np.save('data/HiRes/Arrays/Percentile/Winter_95', winter_95)\n",
    "np.save('data/HiRes/Arrays/Percentile/Winter_90', winter_90)\n",
    "np.save('data/HiRes/Arrays/Percentile/Winter_85', winter_85)\n",
    "np.save('data/HiRes/Arrays/Percentile/Winter_80', winter_80)\n",
    "np.save('data/HiRes/Arrays/Percentile/Winter_97', winter_97)\n",
    "np.save('data/HiRes/Arrays/Percentile/Winter_99', winter_99)"
   ]
  },
  {
   "cell_type": "code",
   "execution_count": 46,
   "metadata": {},
   "outputs": [],
   "source": [
    "spring_95 = np.percentile(spring, q = 95, axis = 0)\n",
    "spring_90 = np.percentile(spring, q = 90, axis = 0)\n",
    "spring_85 = np.percentile(spring, q = 85, axis = 0)\n",
    "spring_80 = np.percentile(spring, q = 80, axis = 0)\n",
    "spring_97 = np.percentile(spring, q = 97, axis = 0)\n",
    "spring_99 = np.percentile(spring, q = 99, axis = 0)"
   ]
  },
  {
   "cell_type": "code",
   "execution_count": 47,
   "metadata": {},
   "outputs": [],
   "source": [
    "np.save('data/HiRes/Arrays/Percentile/Spring_95', spring_95)\n",
    "np.save('data/HiRes/Arrays/Percentile/Spring_90', spring_90)\n",
    "np.save('data/HiRes/Arrays/Percentile/Spring_85', spring_85)\n",
    "np.save('data/HiRes/Arrays/Percentile/Spring_80', spring_80)\n",
    "np.save('data/HiRes/Arrays/Percentile/Spring_97', spring_97)\n",
    "np.save('data/HiRes/Arrays/Percentile/Spring_99', spring_99)"
   ]
  },
  {
   "cell_type": "code",
   "execution_count": 48,
   "metadata": {},
   "outputs": [],
   "source": [
    "summer_95 = np.percentile(summer, q = 95, axis = 0)\n",
    "summer_90 = np.percentile(summer, q = 90, axis = 0)\n",
    "summer_85 = np.percentile(summer, q = 85, axis = 0)\n",
    "summer_80 = np.percentile(summer, q = 80, axis = 0)\n",
    "summer_97 = np.percentile(summer, q = 97, axis = 0)\n",
    "summer_99 = np.percentile(summer, q = 99, axis = 0)"
   ]
  },
  {
   "cell_type": "code",
   "execution_count": 49,
   "metadata": {},
   "outputs": [],
   "source": [
    "np.save('data/HiRes/Arrays/Percentile/Summer_95', summer_95)\n",
    "np.save('data/HiRes/Arrays/Percentile/Summer_90', summer_90)\n",
    "np.save('data/HiRes/Arrays/Percentile/Summer_85', summer_85)\n",
    "np.save('data/HiRes/Arrays/Percentile/Summer_80', summer_80)\n",
    "np.save('data/HiRes/Arrays/Percentile/Summer_97', summer_97)\n",
    "np.save('data/HiRes/Arrays/Percentile/Summer_99', summer_99)"
   ]
  },
  {
   "cell_type": "code",
   "execution_count": 50,
   "metadata": {},
   "outputs": [],
   "source": [
    "autumn_95 = np.percentile(autumn, q = 95, axis = 0)\n",
    "autumn_90 = np.percentile(autumn, q = 90, axis = 0)\n",
    "autumn_85 = np.percentile(autumn, q = 85, axis = 0)\n",
    "autumn_80 = np.percentile(autumn, q = 80, axis = 0)\n",
    "autumn_97 = np.percentile(autumn, q = 97, axis = 0)\n",
    "autumn_99 = np.percentile(autumn, q = 99, axis = 0)"
   ]
  },
  {
   "cell_type": "code",
   "execution_count": 51,
   "metadata": {},
   "outputs": [],
   "source": [
    "np.save('data/HiRes/Arrays/Percentile/Autumn_95', autumn_95)\n",
    "np.save('data/HiRes/Arrays/Percentile/Autumn_90', autumn_90)\n",
    "np.save('data/HiRes/Arrays/Percentile/Autumn_85', autumn_85)\n",
    "np.save('data/HiRes/Arrays/Percentile/Autumn_80', autumn_80)\n",
    "np.save('data/HiRes/Arrays/Percentile/Autumn_97', autumn_97)\n",
    "np.save('data/HiRes/Arrays/Percentile/Autumn_99', autumn_99)"
   ]
  },
  {
   "cell_type": "code",
   "execution_count": 52,
   "metadata": {},
   "outputs": [],
   "source": [
    "mask_99 = np.concatenate((winter_99[np.newaxis,:,:],\n",
    "                          spring_99[np.newaxis,:,:],\n",
    "                          summer_99[np.newaxis,:,:],\n",
    "                          autumn_99[np.newaxis,:,:]),axis = 0)\n",
    "mask_97 = np.concatenate((winter_97[np.newaxis,:,:],\n",
    "                          spring_97[np.newaxis,:,:],\n",
    "                          summer_97[np.newaxis,:,:],\n",
    "                          autumn_97[np.newaxis,:,:]),axis = 0)\n",
    "mask_95 = np.concatenate((winter_95[np.newaxis,:,:],\n",
    "                          spring_95[np.newaxis,:,:],\n",
    "                          summer_95[np.newaxis,:,:],\n",
    "                          autumn_95[np.newaxis,:,:]),axis = 0)\n",
    "mask_90 = np.concatenate((winter_90[np.newaxis,:,:],\n",
    "                          spring_90[np.newaxis,:,:],\n",
    "                          summer_90[np.newaxis,:,:],\n",
    "                          autumn_90[np.newaxis,:,:]),axis = 0)\n",
    "mask_85 = np.concatenate((winter_85[np.newaxis,:,:],\n",
    "                          spring_85[np.newaxis,:,:],\n",
    "                          summer_85[np.newaxis,:,:],\n",
    "                          autumn_85[np.newaxis,:,:]),axis = 0)\n",
    "mask_80 = np.concatenate((winter_80[np.newaxis,:,:],\n",
    "                          spring_80[np.newaxis,:,:],\n",
    "                          summer_80[np.newaxis,:,:],\n",
    "                          autumn_80[np.newaxis,:,:]),axis = 0)"
   ]
  },
  {
   "cell_type": "code",
   "execution_count": 53,
   "metadata": {},
   "outputs": [],
   "source": [
    "np.save('data/HiRes/Arrays/Percentile/Mask_95', mask_95)\n",
    "np.save('data/HiRes/Arrays/Percentile/Mask_90', mask_90)\n",
    "np.save('data/HiRes/Arrays/Percentile/Mask_85', mask_85)\n",
    "np.save('data/HiRes/Arrays/Percentile/Mask_80', mask_80)\n",
    "np.save('data/HiRes/Arrays/Percentile/Mask_97', mask_97)\n",
    "np.save('data/HiRes/Arrays/Percentile/Mask_99', mask_99)"
   ]
  },
  {
   "cell_type": "code",
   "execution_count": 58,
   "metadata": {},
   "outputs": [],
   "source": [
    "mask_95_norm = (mask_95)/40\n",
    "mask_90_norm = (mask_90)/40\n",
    "mask_85_norm = (mask_85)/40\n",
    "mask_80_norm = (mask_80)/40\n",
    "mask_97_norm = (mask_97)/40\n",
    "mask_99_norm = (mask_99)/40"
   ]
  },
  {
   "cell_type": "code",
   "execution_count": 59,
   "metadata": {},
   "outputs": [],
   "source": [
    "np.save('data/HiRes/Arrays/Percentile/Mask_95_norm', mask_95_norm)\n",
    "np.save('data/HiRes/Arrays/Percentile/Mask_90_norm', mask_90_norm)\n",
    "np.save('data/HiRes/Arrays/Percentile/Mask_85_norm', mask_85_norm)\n",
    "np.save('data/HiRes/Arrays/Percentile/Mask_80_norm', mask_80_norm)\n",
    "np.save('data/HiRes/Arrays/Percentile/Mask_97_norm', mask_97_norm)\n",
    "np.save('data/HiRes/Arrays/Percentile/Mask_99_norm', mask_99_norm)"
   ]
  },
  {
   "cell_type": "code",
   "execution_count": 60,
   "metadata": {},
   "outputs": [
    {
     "data": {
      "text/plain": [
       "(4, 550, 550)"
      ]
     },
     "execution_count": 60,
     "metadata": {},
     "output_type": "execute_result"
    }
   ],
   "source": [
    "mask_95_norm.shape"
   ]
  },
  {
   "cell_type": "code",
   "execution_count": 61,
   "metadata": {},
   "outputs": [
    {
     "data": {
      "text/plain": [
       "array([0.49885458, 0.43029837, 0.33445064, 0.42933275])"
      ]
     },
     "execution_count": 61,
     "metadata": {},
     "output_type": "execute_result"
    }
   ],
   "source": [
    "mask_95_norm[:,300,300]"
   ]
  },
  {
   "cell_type": "code",
   "execution_count": 63,
   "metadata": {},
   "outputs": [
    {
     "data": {
      "text/plain": [
       "(550, 550)"
      ]
     },
     "execution_count": 63,
     "metadata": {},
     "output_type": "execute_result"
    }
   ],
   "source": [
    "((winter_95)/40).shape"
   ]
  },
  {
   "cell_type": "code",
   "execution_count": 64,
   "metadata": {},
   "outputs": [
    {
     "data": {
      "text/plain": [
       "0.49885458469390864"
      ]
     },
     "execution_count": 64,
     "metadata": {},
     "output_type": "execute_result"
    }
   ],
   "source": [
    "winter_95[300,300]/40"
   ]
  },
  {
   "cell_type": "code",
   "execution_count": 67,
   "metadata": {},
   "outputs": [
    {
     "data": {
      "image/png": "[encoded data removed]",
      "text/plain": [
       "<Figure size 432x288 with 1 Axes>"
      ]
     },
     "metadata": {
      "needs_background": "light"
     },
     "output_type": "display_data"
    }
   ],
   "source": [
    "_ = plt.hist((winter[:,300,300]/40).flatten(), bins = 100)"
   ]
  },
  {
   "cell_type": "code",
   "execution_count": 68,
   "metadata": {},
   "outputs": [
    {
     "data": {
      "text/plain": [
       "0.87860554"
      ]
     },
     "execution_count": 68,
     "metadata": {},
     "output_type": "execute_result"
    }
   ],
   "source": [
    "np.max(winter[:,300,300]/40)"
   ]
  },
  {
   "cell_type": "code",
   "execution_count": 69,
   "metadata": {},
   "outputs": [
    {
     "data": {
      "text/plain": [
       "0.30398017"
      ]
     },
     "execution_count": 69,
     "metadata": {},
     "output_type": "execute_result"
    }
   ],
   "source": [
    "np.mean(winter[:,300,300]/40)"
   ]
  },
  {
   "cell_type": "code",
   "execution_count": null,
   "metadata": {},
   "outputs": [],
   "source": [
    "winter[:][300].shape"
   ]
  },
  {
   "cell_type": "code",
   "execution_count": null,
   "metadata": {},
   "outputs": [],
   "source": []
  }
 ],
 "metadata": {
  "kernelspec": {
   "display_name": "Python 3",
   "language": "python",
   "name": "python3"
  },
  "language_info": {
   "codemirror_mode": {
    "name": "ipython",
    "version": 3
   },
   "file_extension": ".py",
   "mimetype": "text/x-python",
   "name": "python",
   "nbconvert_exporter": "python",
   "pygments_lexer": "ipython3",
   "version": "3.6.10"
  }
 },
 "nbformat": 4,
 "nbformat_minor": 2
}
